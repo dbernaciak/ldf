{
 "cells": [
  {
   "cell_type": "code",
   "execution_count": 1,
   "metadata": {},
   "outputs": [],
   "source": [
    "import sys; sys.path.insert(0, '..')\n",
    "import pandas as pd\n",
    "import os\n",
    "import numpy as np\n",
    "import matplotlib.pyplot as plt\n",
    "import matplotlib.ticker as mtick\n",
    "from matplotlib.text import Text\n",
    "import seaborn as sns\n",
    "from ldf.utils import load_ecb_forecasts, get_target_buckets, which_bucket, get_bounds, assign_buckets, create_hist_pivot, count_max_cont_missingness\n",
    "from ldf.best_subset import best_n_avg\n",
    "%load_ext autoreload\n",
    "%autoreload 2\n",
    "\n",
    "sns.set_style(\"whitegrid\")\n",
    "sns.set_context(\"paper\", rc={\"font.size\":8,\"axes.titlesize\":20,\"axes.labelsize\":20})\n",
    "plt.rc('legend',fontsize=16)\n",
    "SMALL_SIZE = 16\n",
    "MEDIUM_SIZE = 18\n",
    "BIGGER_SIZE = 20\n",
    "\n",
    "plt.rc('font', size=SMALL_SIZE)          # controls default text sizes\n",
    "plt.rc('axes', titlesize=SMALL_SIZE)     # fontsize of the axes title\n",
    "plt.rc('axes', labelsize=MEDIUM_SIZE)    # fontsize of the x and y labels\n",
    "plt.rc('xtick', labelsize=SMALL_SIZE)    # fontsize of the tick labels\n",
    "plt.rc('ytick', labelsize=SMALL_SIZE)    # fontsize of the tick labels\n",
    "plt.rc('legend', fontsize=SMALL_SIZE)    # legend fontsize\n",
    "plt.rc('figure', titlesize=BIGGER_SIZE)  # fontsize of the figure title"
   ]
  },
  {
   "cell_type": "markdown",
   "metadata": {},
   "source": [
    "## Load data"
   ]
  },
  {
   "cell_type": "code",
   "execution_count": 2,
   "metadata": {},
   "outputs": [],
   "source": [
    "data_folder = r\"..//data//ECB\""
   ]
  },
  {
   "cell_type": "code",
   "execution_count": 3,
   "metadata": {},
   "outputs": [],
   "source": [
    "history = load_ecb_forecasts(data_folder, start=\"1991Q1\", end=\"2019Q3\")"
   ]
  },
  {
   "cell_type": "code",
   "execution_count": 4,
   "metadata": {},
   "outputs": [
    {
     "name": "stdout",
     "output_type": "stream",
     "text": [
      "There are 83 quarterly surveys, starting 1999Q1 and ending 2019Q3\n",
      "There are 108 unique forecasters\n"
     ]
    }
   ],
   "source": [
    "print(\"There are\", history.TARGET_PERIOD.nunique(), \"quarterly surveys, starting\", history.FORECAST_DATE.min(), \"and ending\", history.FORECAST_DATE.max())\n",
    "print(\"There are\", history.FCT_SOURCE.nunique(), \"unique forecasters\")"
   ]
  },
  {
   "cell_type": "code",
   "execution_count": 5,
   "metadata": {},
   "outputs": [
    {
     "data": {
      "text/html": [
       "<div>\n",
       "<style scoped>\n",
       "    .dataframe tbody tr th:only-of-type {\n",
       "        vertical-align: middle;\n",
       "    }\n",
       "\n",
       "    .dataframe tbody tr th {\n",
       "        vertical-align: top;\n",
       "    }\n",
       "\n",
       "    .dataframe thead th {\n",
       "        text-align: right;\n",
       "    }\n",
       "</style>\n",
       "<table border=\"1\" class=\"dataframe\">\n",
       "  <thead>\n",
       "    <tr style=\"text-align: right;\">\n",
       "      <th></th>\n",
       "      <th>TARGET_PERIOD</th>\n",
       "      <th>FCT_SOURCE</th>\n",
       "      <th>POINT</th>\n",
       "      <th>PERIOD_ENUM</th>\n",
       "      <th>FORECAST_DATE</th>\n",
       "      <th>T0_0</th>\n",
       "      <th>F0_0T0_4</th>\n",
       "      <th>F0_5T0_9</th>\n",
       "      <th>F1_0T1_4</th>\n",
       "      <th>F1_5T1_9</th>\n",
       "      <th>...</th>\n",
       "      <th>F3_0T3_4</th>\n",
       "      <th>F3_5</th>\n",
       "      <th>F3_5T3_9</th>\n",
       "      <th>F4_0</th>\n",
       "      <th>TN2_0</th>\n",
       "      <th>FN2_0TN1_6</th>\n",
       "      <th>FN1_5TN1_1</th>\n",
       "      <th>FN1_0TN0_6</th>\n",
       "      <th>FN0_5TN0_1</th>\n",
       "      <th>TN1_0</th>\n",
       "    </tr>\n",
       "  </thead>\n",
       "  <tbody>\n",
       "    <tr>\n",
       "      <th>0</th>\n",
       "      <td>1999Dec</td>\n",
       "      <td>1</td>\n",
       "      <td>1.2</td>\n",
       "      <td>0</td>\n",
       "      <td>1999Q1</td>\n",
       "      <td>NaN</td>\n",
       "      <td>NaN</td>\n",
       "      <td>10</td>\n",
       "      <td>80</td>\n",
       "      <td>10</td>\n",
       "      <td>...</td>\n",
       "      <td>NaN</td>\n",
       "      <td>NaN</td>\n",
       "      <td>NaN</td>\n",
       "      <td>NaN</td>\n",
       "      <td>NaN</td>\n",
       "      <td>NaN</td>\n",
       "      <td>NaN</td>\n",
       "      <td>NaN</td>\n",
       "      <td>NaN</td>\n",
       "      <td>NaN</td>\n",
       "    </tr>\n",
       "    <tr>\n",
       "      <th>1</th>\n",
       "      <td>1999Dec</td>\n",
       "      <td>2</td>\n",
       "      <td>1.2</td>\n",
       "      <td>0</td>\n",
       "      <td>1999Q1</td>\n",
       "      <td>NaN</td>\n",
       "      <td>10</td>\n",
       "      <td>30</td>\n",
       "      <td>50</td>\n",
       "      <td>10</td>\n",
       "      <td>...</td>\n",
       "      <td>NaN</td>\n",
       "      <td>NaN</td>\n",
       "      <td>NaN</td>\n",
       "      <td>NaN</td>\n",
       "      <td>NaN</td>\n",
       "      <td>NaN</td>\n",
       "      <td>NaN</td>\n",
       "      <td>NaN</td>\n",
       "      <td>NaN</td>\n",
       "      <td>NaN</td>\n",
       "    </tr>\n",
       "    <tr>\n",
       "      <th>2</th>\n",
       "      <td>1999Dec</td>\n",
       "      <td>3</td>\n",
       "      <td>.8</td>\n",
       "      <td>0</td>\n",
       "      <td>1999Q1</td>\n",
       "      <td>NaN</td>\n",
       "      <td>30</td>\n",
       "      <td>40</td>\n",
       "      <td>20</td>\n",
       "      <td>10</td>\n",
       "      <td>...</td>\n",
       "      <td>NaN</td>\n",
       "      <td>NaN</td>\n",
       "      <td>NaN</td>\n",
       "      <td>NaN</td>\n",
       "      <td>NaN</td>\n",
       "      <td>NaN</td>\n",
       "      <td>NaN</td>\n",
       "      <td>NaN</td>\n",
       "      <td>NaN</td>\n",
       "      <td>NaN</td>\n",
       "    </tr>\n",
       "    <tr>\n",
       "      <th>3</th>\n",
       "      <td>1999Dec</td>\n",
       "      <td>4</td>\n",
       "      <td>1.3</td>\n",
       "      <td>0</td>\n",
       "      <td>1999Q1</td>\n",
       "      <td>NaN</td>\n",
       "      <td>NaN</td>\n",
       "      <td>NaN</td>\n",
       "      <td>60</td>\n",
       "      <td>40</td>\n",
       "      <td>...</td>\n",
       "      <td>NaN</td>\n",
       "      <td>NaN</td>\n",
       "      <td>NaN</td>\n",
       "      <td>NaN</td>\n",
       "      <td>NaN</td>\n",
       "      <td>NaN</td>\n",
       "      <td>NaN</td>\n",
       "      <td>NaN</td>\n",
       "      <td>NaN</td>\n",
       "      <td>NaN</td>\n",
       "    </tr>\n",
       "    <tr>\n",
       "      <th>4</th>\n",
       "      <td>1999Dec</td>\n",
       "      <td>5</td>\n",
       "      <td>1.1</td>\n",
       "      <td>0</td>\n",
       "      <td>1999Q1</td>\n",
       "      <td>NaN</td>\n",
       "      <td>5</td>\n",
       "      <td>20</td>\n",
       "      <td>75</td>\n",
       "      <td>NaN</td>\n",
       "      <td>...</td>\n",
       "      <td>NaN</td>\n",
       "      <td>NaN</td>\n",
       "      <td>NaN</td>\n",
       "      <td>NaN</td>\n",
       "      <td>NaN</td>\n",
       "      <td>NaN</td>\n",
       "      <td>NaN</td>\n",
       "      <td>NaN</td>\n",
       "      <td>NaN</td>\n",
       "      <td>NaN</td>\n",
       "    </tr>\n",
       "  </tbody>\n",
       "</table>\n",
       "<p>5 rows × 22 columns</p>\n",
       "</div>"
      ],
      "text/plain": [
       "  TARGET_PERIOD FCT_SOURCE POINT  PERIOD_ENUM FORECAST_DATE T0_0 F0_0T0_4  \\\n",
       "0       1999Dec          1   1.2            0        1999Q1  NaN      NaN   \n",
       "1       1999Dec          2   1.2            0        1999Q1  NaN       10   \n",
       "2       1999Dec          3    .8            0        1999Q1  NaN       30   \n",
       "3       1999Dec          4   1.3            0        1999Q1  NaN      NaN   \n",
       "4       1999Dec          5   1.1            0        1999Q1  NaN        5   \n",
       "\n",
       "  F0_5T0_9 F1_0T1_4 F1_5T1_9  ... F3_0T3_4 F3_5 F3_5T3_9 F4_0 TN2_0  \\\n",
       "0       10       80       10  ...      NaN  NaN      NaN  NaN   NaN   \n",
       "1       30       50       10  ...      NaN  NaN      NaN  NaN   NaN   \n",
       "2       40       20       10  ...      NaN  NaN      NaN  NaN   NaN   \n",
       "3      NaN       60       40  ...      NaN  NaN      NaN  NaN   NaN   \n",
       "4       20       75      NaN  ...      NaN  NaN      NaN  NaN   NaN   \n",
       "\n",
       "  FN2_0TN1_6 FN1_5TN1_1 FN1_0TN0_6 FN0_5TN0_1 TN1_0  \n",
       "0        NaN        NaN        NaN        NaN   NaN  \n",
       "1        NaN        NaN        NaN        NaN   NaN  \n",
       "2        NaN        NaN        NaN        NaN   NaN  \n",
       "3        NaN        NaN        NaN        NaN   NaN  \n",
       "4        NaN        NaN        NaN        NaN   NaN  \n",
       "\n",
       "[5 rows x 22 columns]"
      ]
     },
     "execution_count": 5,
     "metadata": {},
     "output_type": "execute_result"
    }
   ],
   "source": [
    "history.head()"
   ]
  },
  {
   "cell_type": "markdown",
   "metadata": {},
   "source": [
    "## Define buckets"
   ]
  },
  {
   "cell_type": "code",
   "execution_count": 6,
   "metadata": {},
   "outputs": [],
   "source": [
    "buckets_from = [None, -0.5, 0.0, 0.5, 1, 1.5, 2, 2.5, 3, 3.5, 4]\n",
    "buckets_to = [-0.5, 0.0, 0.5, 1, 1.5, 2, 2.5, 3, 3.5, 4.0, None]\n",
    "target_buckets = get_target_buckets(buckets_from, buckets_to)"
   ]
  },
  {
   "cell_type": "code",
   "execution_count": 7,
   "metadata": {},
   "outputs": [
    {
     "data": {
      "text/plain": [
       "{'TN0_5': ['TN2_0', 'FN2_0TN1_6', 'FN1_5TN1_1', 'FN1_0TN0_6', 'TN1_0'],\n",
       " 'FN0_5T0_0': ['T0_0', 'FN0_5TN0_1'],\n",
       " 'F0_0T0_5': ['F0_0T0_4'],\n",
       " 'F0_5T1_0': ['F0_5T0_9'],\n",
       " 'F1_0T1_5': ['F1_0T1_4'],\n",
       " 'F1_5T2_0': ['F1_5T1_9'],\n",
       " 'F2_0T2_5': ['F2_0T2_4'],\n",
       " 'F2_5T3_0': ['F2_5T2_9'],\n",
       " 'F3_0T3_5': ['F3_0T3_4'],\n",
       " 'F3_5T4_0': ['F3_5', 'F3_5T3_9'],\n",
       " 'F4_0': ['F4_0']}"
      ]
     },
     "execution_count": 7,
     "metadata": {},
     "output_type": "execute_result"
    }
   ],
   "source": [
    "buckets_in_history = history.columns[5:].to_list()\n",
    "assigned_buckets = assign_buckets(target_buckets, buckets_in_history)\n",
    "assigned_buckets"
   ]
  },
  {
   "cell_type": "markdown",
   "metadata": {},
   "source": [
    "### Create clean history"
   ]
  },
  {
   "cell_type": "code",
   "execution_count": 8,
   "metadata": {},
   "outputs": [],
   "source": [
    "history_clean = pd.DataFrame()\n",
    "history_clean[\"PERIOD_ENUM\"] = history[\"PERIOD_ENUM\"].copy()\n",
    "history_clean[\"FORECAST_DATE\"] = history[\"FORECAST_DATE\"].copy()\n",
    "history_clean[\"TARGET_PERIOD\"] = history[\"TARGET_PERIOD\"].copy()\n",
    "history_clean[\"FCT_SOURCE\"] = history[\"FCT_SOURCE\"].copy()\n",
    "history_clean[\"POINT\"] = history[\"POINT\"].copy()\n",
    "for tb in target_buckets:\n",
    "    history_clean[tb] = np.sum([history[i].fillna(0).astype(float).copy() for i in assigned_buckets[tb]], axis=0)\n",
    "\n",
    "history_clean[\"SUM_CHECK\"] = history_clean[target_buckets].sum(axis=1)"
   ]
  },
  {
   "cell_type": "code",
   "execution_count": 9,
   "metadata": {},
   "outputs": [
    {
     "data": {
      "text/plain": [
       "4752"
      ]
     },
     "execution_count": 9,
     "metadata": {},
     "output_type": "execute_result"
    }
   ],
   "source": [
    "len(history_clean)"
   ]
  },
  {
   "cell_type": "markdown",
   "metadata": {},
   "source": [
    "#### Keep only records where point forecast is available or the sum of probabilities is greater than 99"
   ]
  },
  {
   "cell_type": "code",
   "execution_count": 10,
   "metadata": {},
   "outputs": [
    {
     "data": {
      "text/plain": [
       "108"
      ]
     },
     "execution_count": 10,
     "metadata": {},
     "output_type": "execute_result"
    }
   ],
   "source": [
    "history_clean.FCT_SOURCE.nunique()"
   ]
  },
  {
   "cell_type": "code",
   "execution_count": 11,
   "metadata": {},
   "outputs": [
    {
     "data": {
      "text/plain": [
       "106"
      ]
     },
     "execution_count": 11,
     "metadata": {},
     "output_type": "execute_result"
    }
   ],
   "source": [
    "#history_clean = history_clean[(history_clean.SUM_CHECK > 80)] \n",
    "history_clean = history_clean[~pd.isna(history_clean.POINT) | (history_clean.SUM_CHECK > 80)] \n",
    "history_clean.FCT_SOURCE.nunique()"
   ]
  },
  {
   "cell_type": "markdown",
   "metadata": {},
   "source": [
    "##### Assign 100% probability to the bucket corresponding to point forecast if probabilities are set to 0"
   ]
  },
  {
   "cell_type": "code",
   "execution_count": 12,
   "metadata": {},
   "outputs": [
    {
     "data": {
      "text/plain": [
       "0.8"
      ]
     },
     "execution_count": 12,
     "metadata": {},
     "output_type": "execute_result"
    }
   ],
   "source": [
    "float(history_clean.iloc[6].POINT)"
   ]
  },
  {
   "cell_type": "code",
   "execution_count": 13,
   "metadata": {},
   "outputs": [
    {
     "data": {
      "text/html": [
       "<div>\n",
       "<style scoped>\n",
       "    .dataframe tbody tr th:only-of-type {\n",
       "        vertical-align: middle;\n",
       "    }\n",
       "\n",
       "    .dataframe tbody tr th {\n",
       "        vertical-align: top;\n",
       "    }\n",
       "\n",
       "    .dataframe thead th {\n",
       "        text-align: right;\n",
       "    }\n",
       "</style>\n",
       "<table border=\"1\" class=\"dataframe\">\n",
       "  <thead>\n",
       "    <tr style=\"text-align: right;\">\n",
       "      <th></th>\n",
       "      <th>PERIOD_ENUM</th>\n",
       "      <th>FORECAST_DATE</th>\n",
       "      <th>TARGET_PERIOD</th>\n",
       "      <th>FCT_SOURCE</th>\n",
       "      <th>POINT</th>\n",
       "      <th>TN0_5</th>\n",
       "      <th>FN0_5T0_0</th>\n",
       "      <th>F0_0T0_5</th>\n",
       "      <th>F0_5T1_0</th>\n",
       "      <th>F1_0T1_5</th>\n",
       "      <th>F1_5T2_0</th>\n",
       "      <th>F2_0T2_5</th>\n",
       "      <th>F2_5T3_0</th>\n",
       "      <th>F3_0T3_5</th>\n",
       "      <th>F3_5T4_0</th>\n",
       "      <th>F4_0</th>\n",
       "      <th>SUM_CHECK</th>\n",
       "    </tr>\n",
       "  </thead>\n",
       "  <tbody>\n",
       "    <tr>\n",
       "      <th>6</th>\n",
       "      <td>0</td>\n",
       "      <td>1999Q1</td>\n",
       "      <td>1999Dec</td>\n",
       "      <td>7</td>\n",
       "      <td>.8</td>\n",
       "      <td>0.0</td>\n",
       "      <td>0.0</td>\n",
       "      <td>0.0</td>\n",
       "      <td>0.0</td>\n",
       "      <td>0.0</td>\n",
       "      <td>0.0</td>\n",
       "      <td>0.0</td>\n",
       "      <td>0.0</td>\n",
       "      <td>0.0</td>\n",
       "      <td>0.0</td>\n",
       "      <td>0.0</td>\n",
       "      <td>0.0</td>\n",
       "    </tr>\n",
       "    <tr>\n",
       "      <th>21</th>\n",
       "      <td>0</td>\n",
       "      <td>1999Q1</td>\n",
       "      <td>1999Dec</td>\n",
       "      <td>31</td>\n",
       "      <td>1.7</td>\n",
       "      <td>0.0</td>\n",
       "      <td>0.0</td>\n",
       "      <td>0.0</td>\n",
       "      <td>0.0</td>\n",
       "      <td>0.0</td>\n",
       "      <td>0.0</td>\n",
       "      <td>0.0</td>\n",
       "      <td>0.0</td>\n",
       "      <td>0.0</td>\n",
       "      <td>0.0</td>\n",
       "      <td>0.0</td>\n",
       "      <td>0.0</td>\n",
       "    </tr>\n",
       "    <tr>\n",
       "      <th>25</th>\n",
       "      <td>0</td>\n",
       "      <td>1999Q1</td>\n",
       "      <td>1999Dec</td>\n",
       "      <td>35</td>\n",
       "      <td>1.8</td>\n",
       "      <td>0.0</td>\n",
       "      <td>0.0</td>\n",
       "      <td>0.0</td>\n",
       "      <td>0.0</td>\n",
       "      <td>0.0</td>\n",
       "      <td>0.0</td>\n",
       "      <td>0.0</td>\n",
       "      <td>0.0</td>\n",
       "      <td>0.0</td>\n",
       "      <td>0.0</td>\n",
       "      <td>0.0</td>\n",
       "      <td>0.0</td>\n",
       "    </tr>\n",
       "    <tr>\n",
       "      <th>45</th>\n",
       "      <td>0</td>\n",
       "      <td>1999Q1</td>\n",
       "      <td>1999Dec</td>\n",
       "      <td>63</td>\n",
       "      <td>1.4</td>\n",
       "      <td>0.0</td>\n",
       "      <td>0.0</td>\n",
       "      <td>0.0</td>\n",
       "      <td>0.0</td>\n",
       "      <td>0.0</td>\n",
       "      <td>0.0</td>\n",
       "      <td>0.0</td>\n",
       "      <td>0.0</td>\n",
       "      <td>0.0</td>\n",
       "      <td>0.0</td>\n",
       "      <td>0.0</td>\n",
       "      <td>0.0</td>\n",
       "    </tr>\n",
       "    <tr>\n",
       "      <th>54</th>\n",
       "      <td>0</td>\n",
       "      <td>1999Q1</td>\n",
       "      <td>1999Dec</td>\n",
       "      <td>76</td>\n",
       "      <td>1.3</td>\n",
       "      <td>0.0</td>\n",
       "      <td>0.0</td>\n",
       "      <td>0.0</td>\n",
       "      <td>0.0</td>\n",
       "      <td>0.0</td>\n",
       "      <td>0.0</td>\n",
       "      <td>0.0</td>\n",
       "      <td>0.0</td>\n",
       "      <td>0.0</td>\n",
       "      <td>0.0</td>\n",
       "      <td>0.0</td>\n",
       "      <td>0.0</td>\n",
       "    </tr>\n",
       "    <tr>\n",
       "      <th>...</th>\n",
       "      <td>...</td>\n",
       "      <td>...</td>\n",
       "      <td>...</td>\n",
       "      <td>...</td>\n",
       "      <td>...</td>\n",
       "      <td>...</td>\n",
       "      <td>...</td>\n",
       "      <td>...</td>\n",
       "      <td>...</td>\n",
       "      <td>...</td>\n",
       "      <td>...</td>\n",
       "      <td>...</td>\n",
       "      <td>...</td>\n",
       "      <td>...</td>\n",
       "      <td>...</td>\n",
       "      <td>...</td>\n",
       "      <td>...</td>\n",
       "    </tr>\n",
       "    <tr>\n",
       "      <th>4736</th>\n",
       "      <td>82</td>\n",
       "      <td>2019Q3</td>\n",
       "      <td>2020Jun</td>\n",
       "      <td>97</td>\n",
       "      <td>1.4</td>\n",
       "      <td>0.0</td>\n",
       "      <td>0.0</td>\n",
       "      <td>0.0</td>\n",
       "      <td>0.0</td>\n",
       "      <td>0.0</td>\n",
       "      <td>0.0</td>\n",
       "      <td>0.0</td>\n",
       "      <td>0.0</td>\n",
       "      <td>0.0</td>\n",
       "      <td>0.0</td>\n",
       "      <td>0.0</td>\n",
       "      <td>0.0</td>\n",
       "    </tr>\n",
       "    <tr>\n",
       "      <th>4738</th>\n",
       "      <td>82</td>\n",
       "      <td>2019Q3</td>\n",
       "      <td>2020Jun</td>\n",
       "      <td>99</td>\n",
       "      <td>1</td>\n",
       "      <td>0.0</td>\n",
       "      <td>0.0</td>\n",
       "      <td>0.0</td>\n",
       "      <td>0.0</td>\n",
       "      <td>0.0</td>\n",
       "      <td>0.0</td>\n",
       "      <td>0.0</td>\n",
       "      <td>0.0</td>\n",
       "      <td>0.0</td>\n",
       "      <td>0.0</td>\n",
       "      <td>0.0</td>\n",
       "      <td>0.0</td>\n",
       "    </tr>\n",
       "    <tr>\n",
       "      <th>4739</th>\n",
       "      <td>82</td>\n",
       "      <td>2019Q3</td>\n",
       "      <td>2020Jun</td>\n",
       "      <td>101</td>\n",
       "      <td>1.3</td>\n",
       "      <td>0.0</td>\n",
       "      <td>0.0</td>\n",
       "      <td>0.0</td>\n",
       "      <td>0.0</td>\n",
       "      <td>0.0</td>\n",
       "      <td>0.0</td>\n",
       "      <td>0.0</td>\n",
       "      <td>0.0</td>\n",
       "      <td>0.0</td>\n",
       "      <td>0.0</td>\n",
       "      <td>0.0</td>\n",
       "      <td>0.0</td>\n",
       "    </tr>\n",
       "    <tr>\n",
       "      <th>4740</th>\n",
       "      <td>82</td>\n",
       "      <td>2019Q3</td>\n",
       "      <td>2020Jun</td>\n",
       "      <td>102</td>\n",
       "      <td>1.4</td>\n",
       "      <td>0.0</td>\n",
       "      <td>0.0</td>\n",
       "      <td>0.0</td>\n",
       "      <td>0.0</td>\n",
       "      <td>0.0</td>\n",
       "      <td>0.0</td>\n",
       "      <td>0.0</td>\n",
       "      <td>0.0</td>\n",
       "      <td>0.0</td>\n",
       "      <td>0.0</td>\n",
       "      <td>0.0</td>\n",
       "      <td>0.0</td>\n",
       "    </tr>\n",
       "    <tr>\n",
       "      <th>4747</th>\n",
       "      <td>82</td>\n",
       "      <td>2019Q3</td>\n",
       "      <td>2020Jun</td>\n",
       "      <td>114</td>\n",
       "      <td>1.9</td>\n",
       "      <td>0.0</td>\n",
       "      <td>0.0</td>\n",
       "      <td>0.0</td>\n",
       "      <td>0.0</td>\n",
       "      <td>0.0</td>\n",
       "      <td>0.0</td>\n",
       "      <td>0.0</td>\n",
       "      <td>0.0</td>\n",
       "      <td>0.0</td>\n",
       "      <td>0.0</td>\n",
       "      <td>0.0</td>\n",
       "      <td>0.0</td>\n",
       "    </tr>\n",
       "  </tbody>\n",
       "</table>\n",
       "<p>515 rows × 17 columns</p>\n",
       "</div>"
      ],
      "text/plain": [
       "      PERIOD_ENUM FORECAST_DATE TARGET_PERIOD FCT_SOURCE POINT  TN0_5  \\\n",
       "6               0        1999Q1       1999Dec          7    .8    0.0   \n",
       "21              0        1999Q1       1999Dec         31   1.7    0.0   \n",
       "25              0        1999Q1       1999Dec         35   1.8    0.0   \n",
       "45              0        1999Q1       1999Dec         63   1.4    0.0   \n",
       "54              0        1999Q1       1999Dec         76   1.3    0.0   \n",
       "...           ...           ...           ...        ...   ...    ...   \n",
       "4736           82        2019Q3       2020Jun         97   1.4    0.0   \n",
       "4738           82        2019Q3       2020Jun         99     1    0.0   \n",
       "4739           82        2019Q3       2020Jun        101   1.3    0.0   \n",
       "4740           82        2019Q3       2020Jun        102   1.4    0.0   \n",
       "4747           82        2019Q3       2020Jun        114   1.9    0.0   \n",
       "\n",
       "      FN0_5T0_0  F0_0T0_5  F0_5T1_0  F1_0T1_5  F1_5T2_0  F2_0T2_5  F2_5T3_0  \\\n",
       "6           0.0       0.0       0.0       0.0       0.0       0.0       0.0   \n",
       "21          0.0       0.0       0.0       0.0       0.0       0.0       0.0   \n",
       "25          0.0       0.0       0.0       0.0       0.0       0.0       0.0   \n",
       "45          0.0       0.0       0.0       0.0       0.0       0.0       0.0   \n",
       "54          0.0       0.0       0.0       0.0       0.0       0.0       0.0   \n",
       "...         ...       ...       ...       ...       ...       ...       ...   \n",
       "4736        0.0       0.0       0.0       0.0       0.0       0.0       0.0   \n",
       "4738        0.0       0.0       0.0       0.0       0.0       0.0       0.0   \n",
       "4739        0.0       0.0       0.0       0.0       0.0       0.0       0.0   \n",
       "4740        0.0       0.0       0.0       0.0       0.0       0.0       0.0   \n",
       "4747        0.0       0.0       0.0       0.0       0.0       0.0       0.0   \n",
       "\n",
       "      F3_0T3_5  F3_5T4_0  F4_0  SUM_CHECK  \n",
       "6          0.0       0.0   0.0        0.0  \n",
       "21         0.0       0.0   0.0        0.0  \n",
       "25         0.0       0.0   0.0        0.0  \n",
       "45         0.0       0.0   0.0        0.0  \n",
       "54         0.0       0.0   0.0        0.0  \n",
       "...        ...       ...   ...        ...  \n",
       "4736       0.0       0.0   0.0        0.0  \n",
       "4738       0.0       0.0   0.0        0.0  \n",
       "4739       0.0       0.0   0.0        0.0  \n",
       "4740       0.0       0.0   0.0        0.0  \n",
       "4747       0.0       0.0   0.0        0.0  \n",
       "\n",
       "[515 rows x 17 columns]"
      ]
     },
     "execution_count": 13,
     "metadata": {},
     "output_type": "execute_result"
    }
   ],
   "source": [
    "history_clean.loc[(history_clean.SUM_CHECK < 80)]"
   ]
  },
  {
   "cell_type": "code",
   "execution_count": 14,
   "metadata": {},
   "outputs": [],
   "source": [
    "for i in history_clean[(history_clean.SUM_CHECK < 80)].index:\n",
    "    history_clean.loc[(history_clean.index == i) , which_bucket(float(history_clean[(history_clean.index == i)].POINT))] = 100\n",
    "    \n",
    "history_clean.loc[(history_clean.SUM_CHECK < 80), \"SUM_CHECK\"] = 100"
   ]
  },
  {
   "cell_type": "code",
   "execution_count": 15,
   "metadata": {},
   "outputs": [
    {
     "name": "stdout",
     "output_type": "stream",
     "text": [
      "100.82403923427678 99.4562199410901\n"
     ]
    }
   ],
   "source": [
    "print(history_clean.SUM_CHECK.max(), history_clean.SUM_CHECK.min())"
   ]
  },
  {
   "cell_type": "code",
   "execution_count": 16,
   "metadata": {},
   "outputs": [
    {
     "data": {
      "text/html": [
       "<div>\n",
       "<style scoped>\n",
       "    .dataframe tbody tr th:only-of-type {\n",
       "        vertical-align: middle;\n",
       "    }\n",
       "\n",
       "    .dataframe tbody tr th {\n",
       "        vertical-align: top;\n",
       "    }\n",
       "\n",
       "    .dataframe thead th {\n",
       "        text-align: right;\n",
       "    }\n",
       "</style>\n",
       "<table border=\"1\" class=\"dataframe\">\n",
       "  <thead>\n",
       "    <tr style=\"text-align: right;\">\n",
       "      <th></th>\n",
       "      <th>PERIOD_ENUM</th>\n",
       "      <th>FORECAST_DATE</th>\n",
       "      <th>TARGET_PERIOD</th>\n",
       "      <th>FCT_SOURCE</th>\n",
       "      <th>POINT</th>\n",
       "      <th>TN0_5</th>\n",
       "      <th>FN0_5T0_0</th>\n",
       "      <th>F0_0T0_5</th>\n",
       "      <th>F0_5T1_0</th>\n",
       "      <th>F1_0T1_5</th>\n",
       "      <th>F1_5T2_0</th>\n",
       "      <th>F2_0T2_5</th>\n",
       "      <th>F2_5T3_0</th>\n",
       "      <th>F3_0T3_5</th>\n",
       "      <th>F3_5T4_0</th>\n",
       "      <th>F4_0</th>\n",
       "      <th>SUM_CHECK</th>\n",
       "    </tr>\n",
       "  </thead>\n",
       "  <tbody>\n",
       "    <tr>\n",
       "      <th>4747</th>\n",
       "      <td>82</td>\n",
       "      <td>2019Q3</td>\n",
       "      <td>2020Jun</td>\n",
       "      <td>114</td>\n",
       "      <td>1.9</td>\n",
       "      <td>0.000000</td>\n",
       "      <td>0.000000</td>\n",
       "      <td>0.000000</td>\n",
       "      <td>0.000000</td>\n",
       "      <td>0.000000</td>\n",
       "      <td>100.000000</td>\n",
       "      <td>0.000000</td>\n",
       "      <td>0.000000</td>\n",
       "      <td>0.000000</td>\n",
       "      <td>0.000000</td>\n",
       "      <td>0.000000</td>\n",
       "      <td>100.0</td>\n",
       "    </tr>\n",
       "    <tr>\n",
       "      <th>4748</th>\n",
       "      <td>82</td>\n",
       "      <td>2019Q3</td>\n",
       "      <td>2020Jun</td>\n",
       "      <td>115</td>\n",
       "      <td>1.4</td>\n",
       "      <td>1.463042</td>\n",
       "      <td>3.639768</td>\n",
       "      <td>8.683348</td>\n",
       "      <td>15.501909</td>\n",
       "      <td>20.711933</td>\n",
       "      <td>20.711933</td>\n",
       "      <td>15.501909</td>\n",
       "      <td>8.683348</td>\n",
       "      <td>3.639768</td>\n",
       "      <td>1.141479</td>\n",
       "      <td>0.321563</td>\n",
       "      <td>100.0</td>\n",
       "    </tr>\n",
       "    <tr>\n",
       "      <th>4749</th>\n",
       "      <td>82</td>\n",
       "      <td>2019Q3</td>\n",
       "      <td>2020Jun</td>\n",
       "      <td>116</td>\n",
       "      <td>1.1</td>\n",
       "      <td>0.000000</td>\n",
       "      <td>0.000000</td>\n",
       "      <td>5.000000</td>\n",
       "      <td>25.000000</td>\n",
       "      <td>35.000000</td>\n",
       "      <td>25.000000</td>\n",
       "      <td>10.000000</td>\n",
       "      <td>0.000000</td>\n",
       "      <td>0.000000</td>\n",
       "      <td>0.000000</td>\n",
       "      <td>0.000000</td>\n",
       "      <td>100.0</td>\n",
       "    </tr>\n",
       "    <tr>\n",
       "      <th>4750</th>\n",
       "      <td>82</td>\n",
       "      <td>2019Q3</td>\n",
       "      <td>2020Jun</td>\n",
       "      <td>127</td>\n",
       "      <td>1.5</td>\n",
       "      <td>0.229417</td>\n",
       "      <td>1.330299</td>\n",
       "      <td>5.640933</td>\n",
       "      <td>14.998618</td>\n",
       "      <td>25.027360</td>\n",
       "      <td>26.220716</td>\n",
       "      <td>17.248786</td>\n",
       "      <td>7.121811</td>\n",
       "      <td>1.844189</td>\n",
       "      <td>0.299181</td>\n",
       "      <td>0.038691</td>\n",
       "      <td>100.0</td>\n",
       "    </tr>\n",
       "    <tr>\n",
       "      <th>4751</th>\n",
       "      <td>82</td>\n",
       "      <td>2019Q3</td>\n",
       "      <td>2020Jun</td>\n",
       "      <td>128</td>\n",
       "      <td>1.5</td>\n",
       "      <td>0.000000</td>\n",
       "      <td>1.000000</td>\n",
       "      <td>2.000000</td>\n",
       "      <td>4.000000</td>\n",
       "      <td>30.000000</td>\n",
       "      <td>50.000000</td>\n",
       "      <td>10.000000</td>\n",
       "      <td>2.000000</td>\n",
       "      <td>1.000000</td>\n",
       "      <td>0.000000</td>\n",
       "      <td>0.000000</td>\n",
       "      <td>100.0</td>\n",
       "    </tr>\n",
       "  </tbody>\n",
       "</table>\n",
       "</div>"
      ],
      "text/plain": [
       "      PERIOD_ENUM FORECAST_DATE TARGET_PERIOD FCT_SOURCE POINT     TN0_5  \\\n",
       "4747           82        2019Q3       2020Jun        114   1.9  0.000000   \n",
       "4748           82        2019Q3       2020Jun        115   1.4  1.463042   \n",
       "4749           82        2019Q3       2020Jun        116   1.1  0.000000   \n",
       "4750           82        2019Q3       2020Jun        127   1.5  0.229417   \n",
       "4751           82        2019Q3       2020Jun        128   1.5  0.000000   \n",
       "\n",
       "      FN0_5T0_0  F0_0T0_5   F0_5T1_0   F1_0T1_5    F1_5T2_0   F2_0T2_5  \\\n",
       "4747   0.000000  0.000000   0.000000   0.000000  100.000000   0.000000   \n",
       "4748   3.639768  8.683348  15.501909  20.711933   20.711933  15.501909   \n",
       "4749   0.000000  5.000000  25.000000  35.000000   25.000000  10.000000   \n",
       "4750   1.330299  5.640933  14.998618  25.027360   26.220716  17.248786   \n",
       "4751   1.000000  2.000000   4.000000  30.000000   50.000000  10.000000   \n",
       "\n",
       "      F2_5T3_0  F3_0T3_5  F3_5T4_0      F4_0  SUM_CHECK  \n",
       "4747  0.000000  0.000000  0.000000  0.000000      100.0  \n",
       "4748  8.683348  3.639768  1.141479  0.321563      100.0  \n",
       "4749  0.000000  0.000000  0.000000  0.000000      100.0  \n",
       "4750  7.121811  1.844189  0.299181  0.038691      100.0  \n",
       "4751  2.000000  1.000000  0.000000  0.000000      100.0  "
      ]
     },
     "execution_count": 16,
     "metadata": {},
     "output_type": "execute_result"
    }
   ],
   "source": [
    "history_clean.tail()"
   ]
  },
  {
   "cell_type": "markdown",
   "metadata": {},
   "source": [
    "#### Check for the misdefined forecasts"
   ]
  },
  {
   "cell_type": "code",
   "execution_count": 17,
   "metadata": {},
   "outputs": [
    {
     "data": {
      "text/html": [
       "<div>\n",
       "<style scoped>\n",
       "    .dataframe tbody tr th:only-of-type {\n",
       "        vertical-align: middle;\n",
       "    }\n",
       "\n",
       "    .dataframe tbody tr th {\n",
       "        vertical-align: top;\n",
       "    }\n",
       "\n",
       "    .dataframe thead th {\n",
       "        text-align: right;\n",
       "    }\n",
       "</style>\n",
       "<table border=\"1\" class=\"dataframe\">\n",
       "  <thead>\n",
       "    <tr style=\"text-align: right;\">\n",
       "      <th></th>\n",
       "      <th>PERIOD_ENUM</th>\n",
       "      <th>FORECAST_DATE</th>\n",
       "      <th>TARGET_PERIOD</th>\n",
       "      <th>FCT_SOURCE</th>\n",
       "      <th>POINT</th>\n",
       "      <th>TN0_5</th>\n",
       "      <th>FN0_5T0_0</th>\n",
       "      <th>F0_0T0_5</th>\n",
       "      <th>F0_5T1_0</th>\n",
       "      <th>F1_0T1_5</th>\n",
       "      <th>F1_5T2_0</th>\n",
       "      <th>F2_0T2_5</th>\n",
       "      <th>F2_5T3_0</th>\n",
       "      <th>F3_0T3_5</th>\n",
       "      <th>F3_5T4_0</th>\n",
       "      <th>F4_0</th>\n",
       "      <th>SUM_CHECK</th>\n",
       "    </tr>\n",
       "  </thead>\n",
       "  <tbody>\n",
       "    <tr>\n",
       "      <th>941</th>\n",
       "      <td>16</td>\n",
       "      <td>2003Q1</td>\n",
       "      <td>2003Dec</td>\n",
       "      <td>10</td>\n",
       "      <td>1.65713259</td>\n",
       "      <td>0.0</td>\n",
       "      <td>0.813174</td>\n",
       "      <td>3.328222</td>\n",
       "      <td>10.951328</td>\n",
       "      <td>20.949315</td>\n",
       "      <td>26.110582</td>\n",
       "      <td>21.206864</td>\n",
       "      <td>11.222347</td>\n",
       "      <td>3.867643</td>\n",
       "      <td>1.006746</td>\n",
       "      <td>0.0</td>\n",
       "      <td>99.45622</td>\n",
       "    </tr>\n",
       "  </tbody>\n",
       "</table>\n",
       "</div>"
      ],
      "text/plain": [
       "     PERIOD_ENUM FORECAST_DATE TARGET_PERIOD FCT_SOURCE       POINT  TN0_5  \\\n",
       "941           16        2003Q1       2003Dec         10  1.65713259    0.0   \n",
       "\n",
       "     FN0_5T0_0  F0_0T0_5   F0_5T1_0   F1_0T1_5   F1_5T2_0   F2_0T2_5  \\\n",
       "941   0.813174  3.328222  10.951328  20.949315  26.110582  21.206864   \n",
       "\n",
       "      F2_5T3_0  F3_0T3_5  F3_5T4_0  F4_0  SUM_CHECK  \n",
       "941  11.222347  3.867643  1.006746   0.0   99.45622  "
      ]
     },
     "execution_count": 17,
     "metadata": {},
     "output_type": "execute_result"
    }
   ],
   "source": [
    "history_clean[(history_clean.SUM_CHECK > 10) & (history_clean.SUM_CHECK < 99.5)]"
   ]
  },
  {
   "cell_type": "markdown",
   "metadata": {},
   "source": [
    "### Find which forecasters were contributing frequently"
   ]
  },
  {
   "cell_type": "code",
   "execution_count": 18,
   "metadata": {},
   "outputs": [],
   "source": [
    "hist = create_hist_pivot(history_clean)"
   ]
  },
  {
   "cell_type": "code",
   "execution_count": 19,
   "metadata": {},
   "outputs": [
    {
     "data": {
      "text/html": [
       "<div>\n",
       "<style scoped>\n",
       "    .dataframe tbody tr th:only-of-type {\n",
       "        vertical-align: middle;\n",
       "    }\n",
       "\n",
       "    .dataframe tbody tr th {\n",
       "        vertical-align: top;\n",
       "    }\n",
       "\n",
       "    .dataframe thead th {\n",
       "        text-align: right;\n",
       "    }\n",
       "</style>\n",
       "<table border=\"1\" class=\"dataframe\">\n",
       "  <thead>\n",
       "    <tr style=\"text-align: right;\">\n",
       "      <th>FCT_SOURCE</th>\n",
       "      <th>1</th>\n",
       "      <th>2</th>\n",
       "      <th>3</th>\n",
       "      <th>4</th>\n",
       "      <th>5</th>\n",
       "      <th>6</th>\n",
       "      <th>7</th>\n",
       "      <th>8</th>\n",
       "      <th>9</th>\n",
       "      <th>10</th>\n",
       "      <th>...</th>\n",
       "      <th>111</th>\n",
       "      <th>112</th>\n",
       "      <th>113</th>\n",
       "      <th>114</th>\n",
       "      <th>115</th>\n",
       "      <th>116</th>\n",
       "      <th>118</th>\n",
       "      <th>119</th>\n",
       "      <th>127</th>\n",
       "      <th>128</th>\n",
       "    </tr>\n",
       "    <tr>\n",
       "      <th>DATE</th>\n",
       "      <th></th>\n",
       "      <th></th>\n",
       "      <th></th>\n",
       "      <th></th>\n",
       "      <th></th>\n",
       "      <th></th>\n",
       "      <th></th>\n",
       "      <th></th>\n",
       "      <th></th>\n",
       "      <th></th>\n",
       "      <th></th>\n",
       "      <th></th>\n",
       "      <th></th>\n",
       "      <th></th>\n",
       "      <th></th>\n",
       "      <th></th>\n",
       "      <th></th>\n",
       "      <th></th>\n",
       "      <th></th>\n",
       "      <th></th>\n",
       "      <th></th>\n",
       "    </tr>\n",
       "  </thead>\n",
       "  <tbody>\n",
       "    <tr>\n",
       "      <th>1999-12-01</th>\n",
       "      <td>1.0</td>\n",
       "      <td>1.0</td>\n",
       "      <td>1.0</td>\n",
       "      <td>1.0</td>\n",
       "      <td>1.0</td>\n",
       "      <td>1.0</td>\n",
       "      <td>1.0</td>\n",
       "      <td>NaN</td>\n",
       "      <td>1.0</td>\n",
       "      <td>1.0</td>\n",
       "      <td>...</td>\n",
       "      <td>NaN</td>\n",
       "      <td>NaN</td>\n",
       "      <td>NaN</td>\n",
       "      <td>NaN</td>\n",
       "      <td>NaN</td>\n",
       "      <td>NaN</td>\n",
       "      <td>NaN</td>\n",
       "      <td>NaN</td>\n",
       "      <td>NaN</td>\n",
       "      <td>NaN</td>\n",
       "    </tr>\n",
       "    <tr>\n",
       "      <th>2000-03-01</th>\n",
       "      <td>1.0</td>\n",
       "      <td>1.0</td>\n",
       "      <td>1.0</td>\n",
       "      <td>1.0</td>\n",
       "      <td>1.0</td>\n",
       "      <td>NaN</td>\n",
       "      <td>1.0</td>\n",
       "      <td>NaN</td>\n",
       "      <td>1.0</td>\n",
       "      <td>NaN</td>\n",
       "      <td>...</td>\n",
       "      <td>NaN</td>\n",
       "      <td>NaN</td>\n",
       "      <td>NaN</td>\n",
       "      <td>NaN</td>\n",
       "      <td>NaN</td>\n",
       "      <td>NaN</td>\n",
       "      <td>NaN</td>\n",
       "      <td>NaN</td>\n",
       "      <td>NaN</td>\n",
       "      <td>NaN</td>\n",
       "    </tr>\n",
       "    <tr>\n",
       "      <th>2000-06-01</th>\n",
       "      <td>1.0</td>\n",
       "      <td>NaN</td>\n",
       "      <td>1.0</td>\n",
       "      <td>NaN</td>\n",
       "      <td>1.0</td>\n",
       "      <td>NaN</td>\n",
       "      <td>1.0</td>\n",
       "      <td>NaN</td>\n",
       "      <td>1.0</td>\n",
       "      <td>1.0</td>\n",
       "      <td>...</td>\n",
       "      <td>NaN</td>\n",
       "      <td>NaN</td>\n",
       "      <td>NaN</td>\n",
       "      <td>NaN</td>\n",
       "      <td>NaN</td>\n",
       "      <td>NaN</td>\n",
       "      <td>NaN</td>\n",
       "      <td>NaN</td>\n",
       "      <td>NaN</td>\n",
       "      <td>NaN</td>\n",
       "    </tr>\n",
       "    <tr>\n",
       "      <th>2000-09-01</th>\n",
       "      <td>1.0</td>\n",
       "      <td>1.0</td>\n",
       "      <td>1.0</td>\n",
       "      <td>1.0</td>\n",
       "      <td>1.0</td>\n",
       "      <td>NaN</td>\n",
       "      <td>1.0</td>\n",
       "      <td>NaN</td>\n",
       "      <td>1.0</td>\n",
       "      <td>NaN</td>\n",
       "      <td>...</td>\n",
       "      <td>NaN</td>\n",
       "      <td>NaN</td>\n",
       "      <td>NaN</td>\n",
       "      <td>NaN</td>\n",
       "      <td>NaN</td>\n",
       "      <td>NaN</td>\n",
       "      <td>NaN</td>\n",
       "      <td>NaN</td>\n",
       "      <td>NaN</td>\n",
       "      <td>NaN</td>\n",
       "    </tr>\n",
       "    <tr>\n",
       "      <th>2000-12-01</th>\n",
       "      <td>1.0</td>\n",
       "      <td>1.0</td>\n",
       "      <td>1.0</td>\n",
       "      <td>1.0</td>\n",
       "      <td>1.0</td>\n",
       "      <td>NaN</td>\n",
       "      <td>1.0</td>\n",
       "      <td>NaN</td>\n",
       "      <td>1.0</td>\n",
       "      <td>1.0</td>\n",
       "      <td>...</td>\n",
       "      <td>NaN</td>\n",
       "      <td>NaN</td>\n",
       "      <td>NaN</td>\n",
       "      <td>NaN</td>\n",
       "      <td>NaN</td>\n",
       "      <td>NaN</td>\n",
       "      <td>NaN</td>\n",
       "      <td>NaN</td>\n",
       "      <td>NaN</td>\n",
       "      <td>NaN</td>\n",
       "    </tr>\n",
       "  </tbody>\n",
       "</table>\n",
       "<p>5 rows × 106 columns</p>\n",
       "</div>"
      ],
      "text/plain": [
       "FCT_SOURCE    1    2    3    4    5    6    7   8    9   10  ...  111  112  \\\n",
       "DATE                                                         ...             \n",
       "1999-12-01  1.0  1.0  1.0  1.0  1.0  1.0  1.0 NaN  1.0  1.0  ...  NaN  NaN   \n",
       "2000-03-01  1.0  1.0  1.0  1.0  1.0  NaN  1.0 NaN  1.0  NaN  ...  NaN  NaN   \n",
       "2000-06-01  1.0  NaN  1.0  NaN  1.0  NaN  1.0 NaN  1.0  1.0  ...  NaN  NaN   \n",
       "2000-09-01  1.0  1.0  1.0  1.0  1.0  NaN  1.0 NaN  1.0  NaN  ...  NaN  NaN   \n",
       "2000-12-01  1.0  1.0  1.0  1.0  1.0  NaN  1.0 NaN  1.0  1.0  ...  NaN  NaN   \n",
       "\n",
       "FCT_SOURCE  113  114  115  116  118  119  127  128  \n",
       "DATE                                                \n",
       "1999-12-01  NaN  NaN  NaN  NaN  NaN  NaN  NaN  NaN  \n",
       "2000-03-01  NaN  NaN  NaN  NaN  NaN  NaN  NaN  NaN  \n",
       "2000-06-01  NaN  NaN  NaN  NaN  NaN  NaN  NaN  NaN  \n",
       "2000-09-01  NaN  NaN  NaN  NaN  NaN  NaN  NaN  NaN  \n",
       "2000-12-01  NaN  NaN  NaN  NaN  NaN  NaN  NaN  NaN  \n",
       "\n",
       "[5 rows x 106 columns]"
      ]
     },
     "execution_count": 19,
     "metadata": {},
     "output_type": "execute_result"
    }
   ],
   "source": [
    "hist.head()"
   ]
  },
  {
   "cell_type": "markdown",
   "metadata": {},
   "source": [
    "#### Count maximum contiguous missingness"
   ]
  },
  {
   "cell_type": "code",
   "execution_count": 20,
   "metadata": {},
   "outputs": [
    {
     "data": {
      "text/html": [
       "<div>\n",
       "<style scoped>\n",
       "    .dataframe tbody tr th:only-of-type {\n",
       "        vertical-align: middle;\n",
       "    }\n",
       "\n",
       "    .dataframe tbody tr th {\n",
       "        vertical-align: top;\n",
       "    }\n",
       "\n",
       "    .dataframe thead th {\n",
       "        text-align: right;\n",
       "    }\n",
       "</style>\n",
       "<table border=\"1\" class=\"dataframe\">\n",
       "  <thead>\n",
       "    <tr style=\"text-align: right;\">\n",
       "      <th></th>\n",
       "      <th>Count</th>\n",
       "    </tr>\n",
       "  </thead>\n",
       "  <tbody>\n",
       "    <tr>\n",
       "      <th>1</th>\n",
       "      <td>2</td>\n",
       "    </tr>\n",
       "    <tr>\n",
       "      <th>2</th>\n",
       "      <td>3</td>\n",
       "    </tr>\n",
       "    <tr>\n",
       "      <th>3</th>\n",
       "      <td>17</td>\n",
       "    </tr>\n",
       "    <tr>\n",
       "      <th>4</th>\n",
       "      <td>1</td>\n",
       "    </tr>\n",
       "    <tr>\n",
       "      <th>5</th>\n",
       "      <td>3</td>\n",
       "    </tr>\n",
       "  </tbody>\n",
       "</table>\n",
       "</div>"
      ],
      "text/plain": [
       "   Count\n",
       "1      2\n",
       "2      3\n",
       "3     17\n",
       "4      1\n",
       "5      3"
      ]
     },
     "execution_count": 20,
     "metadata": {},
     "output_type": "execute_result"
    }
   ],
   "source": [
    "d_max_nan = count_max_cont_missingness(hist)\n",
    "d_max_nan.head()"
   ]
  },
  {
   "cell_type": "markdown",
   "metadata": {},
   "source": [
    "#### Check how many forecasters contributed with less than a year break between consecutive forecasts"
   ]
  },
  {
   "cell_type": "code",
   "execution_count": 21,
   "metadata": {},
   "outputs": [
    {
     "data": {
      "text/plain": [
       "17"
      ]
     },
     "execution_count": 21,
     "metadata": {},
     "output_type": "execute_result"
    }
   ],
   "source": [
    "missing_mask = d_max_nan[\"Count\"] < 5\n",
    "len(d_max_nan[missing_mask].index)"
   ]
  },
  {
   "cell_type": "code",
   "execution_count": 22,
   "metadata": {},
   "outputs": [
    {
     "data": {
      "text/html": [
       "<div>\n",
       "<style scoped>\n",
       "    .dataframe tbody tr th:only-of-type {\n",
       "        vertical-align: middle;\n",
       "    }\n",
       "\n",
       "    .dataframe tbody tr th {\n",
       "        vertical-align: top;\n",
       "    }\n",
       "\n",
       "    .dataframe thead th {\n",
       "        text-align: right;\n",
       "    }\n",
       "</style>\n",
       "<table border=\"1\" class=\"dataframe\">\n",
       "  <thead>\n",
       "    <tr style=\"text-align: right;\">\n",
       "      <th>FCT_SOURCE</th>\n",
       "      <th>1</th>\n",
       "      <th>2</th>\n",
       "      <th>4</th>\n",
       "      <th>5</th>\n",
       "      <th>16</th>\n",
       "      <th>20</th>\n",
       "      <th>24</th>\n",
       "      <th>26</th>\n",
       "      <th>37</th>\n",
       "      <th>39</th>\n",
       "      <th>47</th>\n",
       "      <th>48</th>\n",
       "      <th>52</th>\n",
       "      <th>54</th>\n",
       "      <th>89</th>\n",
       "      <th>94</th>\n",
       "      <th>95</th>\n",
       "      <th>96</th>\n",
       "    </tr>\n",
       "    <tr>\n",
       "      <th>DATE</th>\n",
       "      <th></th>\n",
       "      <th></th>\n",
       "      <th></th>\n",
       "      <th></th>\n",
       "      <th></th>\n",
       "      <th></th>\n",
       "      <th></th>\n",
       "      <th></th>\n",
       "      <th></th>\n",
       "      <th></th>\n",
       "      <th></th>\n",
       "      <th></th>\n",
       "      <th></th>\n",
       "      <th></th>\n",
       "      <th></th>\n",
       "      <th></th>\n",
       "      <th></th>\n",
       "      <th></th>\n",
       "    </tr>\n",
       "  </thead>\n",
       "  <tbody>\n",
       "    <tr>\n",
       "      <th>1999-12-01</th>\n",
       "      <td>1.0</td>\n",
       "      <td>1.0</td>\n",
       "      <td>1.0</td>\n",
       "      <td>1.0</td>\n",
       "      <td>1.0</td>\n",
       "      <td>1.0</td>\n",
       "      <td>1.0</td>\n",
       "      <td>1.0</td>\n",
       "      <td>1.0</td>\n",
       "      <td>1.0</td>\n",
       "      <td>1.0</td>\n",
       "      <td>NaN</td>\n",
       "      <td>1.0</td>\n",
       "      <td>1.0</td>\n",
       "      <td>1.0</td>\n",
       "      <td>1.0</td>\n",
       "      <td>1.0</td>\n",
       "      <td>NaN</td>\n",
       "    </tr>\n",
       "    <tr>\n",
       "      <th>2000-03-01</th>\n",
       "      <td>1.0</td>\n",
       "      <td>1.0</td>\n",
       "      <td>1.0</td>\n",
       "      <td>1.0</td>\n",
       "      <td>1.0</td>\n",
       "      <td>1.0</td>\n",
       "      <td>1.0</td>\n",
       "      <td>1.0</td>\n",
       "      <td>1.0</td>\n",
       "      <td>1.0</td>\n",
       "      <td>1.0</td>\n",
       "      <td>1.0</td>\n",
       "      <td>NaN</td>\n",
       "      <td>1.0</td>\n",
       "      <td>1.0</td>\n",
       "      <td>1.0</td>\n",
       "      <td>1.0</td>\n",
       "      <td>NaN</td>\n",
       "    </tr>\n",
       "    <tr>\n",
       "      <th>2000-06-01</th>\n",
       "      <td>1.0</td>\n",
       "      <td>NaN</td>\n",
       "      <td>NaN</td>\n",
       "      <td>1.0</td>\n",
       "      <td>1.0</td>\n",
       "      <td>1.0</td>\n",
       "      <td>NaN</td>\n",
       "      <td>1.0</td>\n",
       "      <td>1.0</td>\n",
       "      <td>1.0</td>\n",
       "      <td>1.0</td>\n",
       "      <td>1.0</td>\n",
       "      <td>1.0</td>\n",
       "      <td>1.0</td>\n",
       "      <td>NaN</td>\n",
       "      <td>1.0</td>\n",
       "      <td>1.0</td>\n",
       "      <td>NaN</td>\n",
       "    </tr>\n",
       "    <tr>\n",
       "      <th>2000-09-01</th>\n",
       "      <td>1.0</td>\n",
       "      <td>1.0</td>\n",
       "      <td>1.0</td>\n",
       "      <td>1.0</td>\n",
       "      <td>1.0</td>\n",
       "      <td>NaN</td>\n",
       "      <td>1.0</td>\n",
       "      <td>1.0</td>\n",
       "      <td>1.0</td>\n",
       "      <td>1.0</td>\n",
       "      <td>1.0</td>\n",
       "      <td>NaN</td>\n",
       "      <td>1.0</td>\n",
       "      <td>1.0</td>\n",
       "      <td>1.0</td>\n",
       "      <td>1.0</td>\n",
       "      <td>1.0</td>\n",
       "      <td>NaN</td>\n",
       "    </tr>\n",
       "    <tr>\n",
       "      <th>2000-12-01</th>\n",
       "      <td>1.0</td>\n",
       "      <td>1.0</td>\n",
       "      <td>1.0</td>\n",
       "      <td>1.0</td>\n",
       "      <td>1.0</td>\n",
       "      <td>NaN</td>\n",
       "      <td>1.0</td>\n",
       "      <td>1.0</td>\n",
       "      <td>1.0</td>\n",
       "      <td>1.0</td>\n",
       "      <td>1.0</td>\n",
       "      <td>1.0</td>\n",
       "      <td>NaN</td>\n",
       "      <td>1.0</td>\n",
       "      <td>1.0</td>\n",
       "      <td>1.0</td>\n",
       "      <td>1.0</td>\n",
       "      <td>NaN</td>\n",
       "    </tr>\n",
       "    <tr>\n",
       "      <th>...</th>\n",
       "      <td>...</td>\n",
       "      <td>...</td>\n",
       "      <td>...</td>\n",
       "      <td>...</td>\n",
       "      <td>...</td>\n",
       "      <td>...</td>\n",
       "      <td>...</td>\n",
       "      <td>...</td>\n",
       "      <td>...</td>\n",
       "      <td>...</td>\n",
       "      <td>...</td>\n",
       "      <td>...</td>\n",
       "      <td>...</td>\n",
       "      <td>...</td>\n",
       "      <td>...</td>\n",
       "      <td>...</td>\n",
       "      <td>...</td>\n",
       "      <td>...</td>\n",
       "    </tr>\n",
       "    <tr>\n",
       "      <th>2019-06-01</th>\n",
       "      <td>NaN</td>\n",
       "      <td>1.0</td>\n",
       "      <td>1.0</td>\n",
       "      <td>NaN</td>\n",
       "      <td>1.0</td>\n",
       "      <td>1.0</td>\n",
       "      <td>1.0</td>\n",
       "      <td>1.0</td>\n",
       "      <td>1.0</td>\n",
       "      <td>1.0</td>\n",
       "      <td>1.0</td>\n",
       "      <td>1.0</td>\n",
       "      <td>1.0</td>\n",
       "      <td>1.0</td>\n",
       "      <td>1.0</td>\n",
       "      <td>1.0</td>\n",
       "      <td>1.0</td>\n",
       "      <td>1.0</td>\n",
       "    </tr>\n",
       "    <tr>\n",
       "      <th>2019-09-01</th>\n",
       "      <td>1.0</td>\n",
       "      <td>1.0</td>\n",
       "      <td>1.0</td>\n",
       "      <td>1.0</td>\n",
       "      <td>1.0</td>\n",
       "      <td>1.0</td>\n",
       "      <td>1.0</td>\n",
       "      <td>1.0</td>\n",
       "      <td>1.0</td>\n",
       "      <td>1.0</td>\n",
       "      <td>1.0</td>\n",
       "      <td>1.0</td>\n",
       "      <td>NaN</td>\n",
       "      <td>NaN</td>\n",
       "      <td>1.0</td>\n",
       "      <td>1.0</td>\n",
       "      <td>1.0</td>\n",
       "      <td>1.0</td>\n",
       "    </tr>\n",
       "    <tr>\n",
       "      <th>2019-12-01</th>\n",
       "      <td>1.0</td>\n",
       "      <td>1.0</td>\n",
       "      <td>1.0</td>\n",
       "      <td>1.0</td>\n",
       "      <td>1.0</td>\n",
       "      <td>1.0</td>\n",
       "      <td>1.0</td>\n",
       "      <td>1.0</td>\n",
       "      <td>1.0</td>\n",
       "      <td>1.0</td>\n",
       "      <td>1.0</td>\n",
       "      <td>1.0</td>\n",
       "      <td>1.0</td>\n",
       "      <td>NaN</td>\n",
       "      <td>1.0</td>\n",
       "      <td>NaN</td>\n",
       "      <td>1.0</td>\n",
       "      <td>1.0</td>\n",
       "    </tr>\n",
       "    <tr>\n",
       "      <th>2020-03-01</th>\n",
       "      <td>1.0</td>\n",
       "      <td>1.0</td>\n",
       "      <td>1.0</td>\n",
       "      <td>NaN</td>\n",
       "      <td>1.0</td>\n",
       "      <td>1.0</td>\n",
       "      <td>1.0</td>\n",
       "      <td>1.0</td>\n",
       "      <td>1.0</td>\n",
       "      <td>1.0</td>\n",
       "      <td>1.0</td>\n",
       "      <td>1.0</td>\n",
       "      <td>1.0</td>\n",
       "      <td>1.0</td>\n",
       "      <td>1.0</td>\n",
       "      <td>NaN</td>\n",
       "      <td>1.0</td>\n",
       "      <td>1.0</td>\n",
       "    </tr>\n",
       "    <tr>\n",
       "      <th>2020-06-01</th>\n",
       "      <td>NaN</td>\n",
       "      <td>NaN</td>\n",
       "      <td>NaN</td>\n",
       "      <td>NaN</td>\n",
       "      <td>1.0</td>\n",
       "      <td>1.0</td>\n",
       "      <td>1.0</td>\n",
       "      <td>1.0</td>\n",
       "      <td>NaN</td>\n",
       "      <td>1.0</td>\n",
       "      <td>1.0</td>\n",
       "      <td>1.0</td>\n",
       "      <td>1.0</td>\n",
       "      <td>1.0</td>\n",
       "      <td>1.0</td>\n",
       "      <td>NaN</td>\n",
       "      <td>1.0</td>\n",
       "      <td>1.0</td>\n",
       "    </tr>\n",
       "  </tbody>\n",
       "</table>\n",
       "<p>83 rows × 18 columns</p>\n",
       "</div>"
      ],
      "text/plain": [
       "FCT_SOURCE    1    2    4    5   16   20   24   26   37   39   47   48   52  \\\n",
       "DATE                                                                          \n",
       "1999-12-01  1.0  1.0  1.0  1.0  1.0  1.0  1.0  1.0  1.0  1.0  1.0  NaN  1.0   \n",
       "2000-03-01  1.0  1.0  1.0  1.0  1.0  1.0  1.0  1.0  1.0  1.0  1.0  1.0  NaN   \n",
       "2000-06-01  1.0  NaN  NaN  1.0  1.0  1.0  NaN  1.0  1.0  1.0  1.0  1.0  1.0   \n",
       "2000-09-01  1.0  1.0  1.0  1.0  1.0  NaN  1.0  1.0  1.0  1.0  1.0  NaN  1.0   \n",
       "2000-12-01  1.0  1.0  1.0  1.0  1.0  NaN  1.0  1.0  1.0  1.0  1.0  1.0  NaN   \n",
       "...         ...  ...  ...  ...  ...  ...  ...  ...  ...  ...  ...  ...  ...   \n",
       "2019-06-01  NaN  1.0  1.0  NaN  1.0  1.0  1.0  1.0  1.0  1.0  1.0  1.0  1.0   \n",
       "2019-09-01  1.0  1.0  1.0  1.0  1.0  1.0  1.0  1.0  1.0  1.0  1.0  1.0  NaN   \n",
       "2019-12-01  1.0  1.0  1.0  1.0  1.0  1.0  1.0  1.0  1.0  1.0  1.0  1.0  1.0   \n",
       "2020-03-01  1.0  1.0  1.0  NaN  1.0  1.0  1.0  1.0  1.0  1.0  1.0  1.0  1.0   \n",
       "2020-06-01  NaN  NaN  NaN  NaN  1.0  1.0  1.0  1.0  NaN  1.0  1.0  1.0  1.0   \n",
       "\n",
       "FCT_SOURCE   54   89   94   95   96  \n",
       "DATE                                 \n",
       "1999-12-01  1.0  1.0  1.0  1.0  NaN  \n",
       "2000-03-01  1.0  1.0  1.0  1.0  NaN  \n",
       "2000-06-01  1.0  NaN  1.0  1.0  NaN  \n",
       "2000-09-01  1.0  1.0  1.0  1.0  NaN  \n",
       "2000-12-01  1.0  1.0  1.0  1.0  NaN  \n",
       "...         ...  ...  ...  ...  ...  \n",
       "2019-06-01  1.0  1.0  1.0  1.0  1.0  \n",
       "2019-09-01  NaN  1.0  1.0  1.0  1.0  \n",
       "2019-12-01  NaN  1.0  NaN  1.0  1.0  \n",
       "2020-03-01  1.0  1.0  NaN  1.0  1.0  \n",
       "2020-06-01  1.0  1.0  NaN  1.0  1.0  \n",
       "\n",
       "[83 rows x 18 columns]"
      ]
     },
     "execution_count": 22,
     "metadata": {},
     "output_type": "execute_result"
    }
   ],
   "source": [
    "hist[d_max_nan[missing_mask].index.tolist() + [\"96\"]]"
   ]
  },
  {
   "cell_type": "code",
   "execution_count": 23,
   "metadata": {},
   "outputs": [],
   "source": [
    "relevant_forecasters = d_max_nan[missing_mask].index.to_list() #+ [\"96\"]"
   ]
  },
  {
   "cell_type": "code",
   "execution_count": 24,
   "metadata": {},
   "outputs": [
    {
     "data": {
      "text/plain": [
       "17"
      ]
     },
     "execution_count": 24,
     "metadata": {},
     "output_type": "execute_result"
    }
   ],
   "source": [
    "len(relevant_forecasters)"
   ]
  },
  {
   "cell_type": "markdown",
   "metadata": {},
   "source": [
    "#### Total number of forecasters"
   ]
  },
  {
   "cell_type": "code",
   "execution_count": 25,
   "metadata": {},
   "outputs": [
    {
     "data": {
      "text/plain": [
       "106"
      ]
     },
     "execution_count": 25,
     "metadata": {},
     "output_type": "execute_result"
    }
   ],
   "source": [
    "len(history_clean.FCT_SOURCE.astype(int).sort_values().astype(\"str\").unique())"
   ]
  },
  {
   "cell_type": "code",
   "execution_count": 26,
   "metadata": {},
   "outputs": [],
   "source": [
    "history_clean = history_clean[history_clean.FCT_SOURCE.isin(relevant_forecasters)]"
   ]
  },
  {
   "cell_type": "markdown",
   "metadata": {},
   "source": [
    "### Histograms"
   ]
  },
  {
   "cell_type": "code",
   "execution_count": 27,
   "metadata": {},
   "outputs": [
    {
     "data": {
      "image/png": "[encoded data removed]",
      "text/plain": [
       "<Figure size 1440x576 with 2 Axes>"
      ]
     },
     "metadata": {},
     "output_type": "display_data"
    }
   ],
   "source": [
    "forecasts = [\"2004Q4\" , \"2018Q4\"]\n",
    "fig, axs = plt.subplots(1, len(forecasts) , figsize=(20,8), sharey=False)\n",
    "x_axis = (np.array([-1] + buckets_from[1:]) + np.array(buckets_to[:-1]+[4.5])) * 0.5\n",
    "for j in range(len(forecasts)):\n",
    "    axs[j].bar(x_axis, history_clean[history_clean.FORECAST_DATE==forecasts[j]][target_buckets].mean().values, color=\"orange\", alpha=0.5, width=0.5)\n",
    "    for i in range(len(history_clean[history_clean.FORECAST_DATE==forecasts[j]])):\n",
    "        axs[j].plot(x_axis, history_clean[history_clean.FORECAST_DATE==forecasts[j]][target_buckets].iloc[i].values, c=\"grey\", marker=\"*\", alpha=0.8)\n",
    "    axs[j].set_ylabel(\"Probability\")\n",
    "    axs[j].set_xlabel(\"Inflation rate (%)\")\n",
    "    axs[j].tick_params(axis='both', which='both', labelsize=15)"
   ]
  },
  {
   "cell_type": "markdown",
   "metadata": {},
   "source": [
    "### Translate point forecasts to bucket predictions"
   ]
  },
  {
   "cell_type": "code",
   "execution_count": 28,
   "metadata": {},
   "outputs": [],
   "source": [
    "def fill_prob(x):\n",
    "    bucket = which_bucket(float(x.POINT))\n",
    "    x[bucket] = 100\n",
    "    x[\"SUM_CHECK\"] = 100\n",
    "    return x"
   ]
  },
  {
   "cell_type": "code",
   "execution_count": 29,
   "metadata": {},
   "outputs": [],
   "source": [
    "mask = history_clean.SUM_CHECK < 99\n",
    "to_be_filled = history_clean[mask].copy()\n",
    "history_clean.loc[mask, :] = to_be_filled.apply(lambda x: fill_prob(x), axis=1)"
   ]
  },
  {
   "cell_type": "markdown",
   "metadata": {},
   "source": [
    "## Load inflation history (realised)"
   ]
  },
  {
   "cell_type": "code",
   "execution_count": 30,
   "metadata": {},
   "outputs": [],
   "source": [
    "hicp = pd.read_csv(data_folder + f\"\\\\HICP.csv\", header=0)\n",
    "hicp[\"DATE\"] = pd.to_datetime(hicp[\"DATE\"], format=\"%d/%m/%Y\")\n",
    "hicp = hicp[hicp.columns[:-1]]\n",
    "hicp.columns = [\"DATE\", \"LEVEL\", \"CHANGE\"]\n",
    "hicp[\"CHANGE\"] = 100 * hicp[\"CHANGE\"]"
   ]
  },
  {
   "cell_type": "code",
   "execution_count": 31,
   "metadata": {},
   "outputs": [
    {
     "data": {
      "text/html": [
       "<div>\n",
       "<style scoped>\n",
       "    .dataframe tbody tr th:only-of-type {\n",
       "        vertical-align: middle;\n",
       "    }\n",
       "\n",
       "    .dataframe tbody tr th {\n",
       "        vertical-align: top;\n",
       "    }\n",
       "\n",
       "    .dataframe thead th {\n",
       "        text-align: right;\n",
       "    }\n",
       "</style>\n",
       "<table border=\"1\" class=\"dataframe\">\n",
       "  <thead>\n",
       "    <tr style=\"text-align: right;\">\n",
       "      <th></th>\n",
       "      <th>DATE</th>\n",
       "      <th>LEVEL</th>\n",
       "      <th>CHANGE</th>\n",
       "    </tr>\n",
       "  </thead>\n",
       "  <tbody>\n",
       "    <tr>\n",
       "      <th>0</th>\n",
       "      <td>1996-01-01</td>\n",
       "      <td>70.40</td>\n",
       "      <td>NaN</td>\n",
       "    </tr>\n",
       "    <tr>\n",
       "      <th>1</th>\n",
       "      <td>1996-02-01</td>\n",
       "      <td>70.71</td>\n",
       "      <td>NaN</td>\n",
       "    </tr>\n",
       "    <tr>\n",
       "      <th>2</th>\n",
       "      <td>1996-03-01</td>\n",
       "      <td>71.01</td>\n",
       "      <td>NaN</td>\n",
       "    </tr>\n",
       "    <tr>\n",
       "      <th>3</th>\n",
       "      <td>1996-04-01</td>\n",
       "      <td>71.14</td>\n",
       "      <td>NaN</td>\n",
       "    </tr>\n",
       "    <tr>\n",
       "      <th>4</th>\n",
       "      <td>1996-05-01</td>\n",
       "      <td>71.32</td>\n",
       "      <td>NaN</td>\n",
       "    </tr>\n",
       "  </tbody>\n",
       "</table>\n",
       "</div>"
      ],
      "text/plain": [
       "        DATE  LEVEL  CHANGE\n",
       "0 1996-01-01  70.40     NaN\n",
       "1 1996-02-01  70.71     NaN\n",
       "2 1996-03-01  71.01     NaN\n",
       "3 1996-04-01  71.14     NaN\n",
       "4 1996-05-01  71.32     NaN"
      ]
     },
     "execution_count": 31,
     "metadata": {},
     "output_type": "execute_result"
    }
   ],
   "source": [
    "hicp.head()"
   ]
  },
  {
   "cell_type": "markdown",
   "metadata": {},
   "source": [
    "### Enrich clean history with the dates and merge with realised inflation"
   ]
  },
  {
   "cell_type": "code",
   "execution_count": 32,
   "metadata": {},
   "outputs": [],
   "source": [
    "history_clean = history_clean[history_clean.FCT_SOURCE.isin(relevant_forecasters)]\n",
    "history_clean[\"YEAR\"] = history_clean[\"TARGET_PERIOD\"].str[:4]\n",
    "history_clean[\"MONTH\"] = history_clean[\"TARGET_PERIOD\"].str[4:]\n",
    "history_clean.loc[history_clean[\"MONTH\"]==\"Mar\", \"MONTH\"] = 3\n",
    "history_clean.loc[history_clean[\"MONTH\"]==\"Jun\", \"MONTH\"] = 6\n",
    "history_clean.loc[history_clean[\"MONTH\"]==\"Sep\", \"MONTH\"] = 9\n",
    "history_clean.loc[history_clean[\"MONTH\"]==\"Dec\", \"MONTH\"] = 12\n",
    "history_clean[\"DATE\"] = pd.to_datetime(history_clean[['YEAR', 'MONTH']].assign(DAY=1))"
   ]
  },
  {
   "cell_type": "code",
   "execution_count": 33,
   "metadata": {},
   "outputs": [],
   "source": [
    "history_clean = history_clean.merge(hicp, on=\"DATE\", how=\"left\")"
   ]
  },
  {
   "cell_type": "code",
   "execution_count": 34,
   "metadata": {},
   "outputs": [],
   "source": [
    "history_clean[\"BUCKET\"] = history_clean.apply(lambda x: which_bucket(x['CHANGE']),axis=1)"
   ]
  },
  {
   "cell_type": "markdown",
   "metadata": {},
   "source": [
    "#### Calculate log-likelihoods"
   ]
  },
  {
   "cell_type": "code",
   "execution_count": 35,
   "metadata": {},
   "outputs": [],
   "source": [
    "log_lik = []\n",
    "lik = []\n",
    "for i in range(len(history_clean)):\n",
    "    x = history_clean[history_clean[\"BUCKET\"].iloc[i]].copy()[i] / 100\n",
    "    if x == 0:\n",
    "        x = 0.01\n",
    "        non_zero_col = history_clean[target_buckets].iloc[i][history_clean[target_buckets].iloc[i] > 0]\n",
    "        history_clean.loc[i, non_zero_col.index] = history_clean[non_zero_col.index].iloc[i]- 1 / len(non_zero_col)\n",
    "        history_clean.loc[i, history_clean[\"BUCKET\"].iloc[i]] = 1\n",
    "    lik.append(x)\n",
    "    log_lik.append(np.log(x))\n",
    "    \n",
    "history_clean[\"LOG_LIK\"] = log_lik\n",
    "history_clean[\"LIK\"] = lik"
   ]
  },
  {
   "cell_type": "code",
   "execution_count": 36,
   "metadata": {},
   "outputs": [],
   "source": [
    "all_forecasters = history_clean.FCT_SOURCE.unique()\n",
    "all_periods = history_clean.TARGET_PERIOD.unique()"
   ]
  },
  {
   "cell_type": "markdown",
   "metadata": {},
   "source": [
    "## Filling missing values"
   ]
  },
  {
   "cell_type": "code",
   "execution_count": 37,
   "metadata": {},
   "outputs": [],
   "source": [
    "filled_history = pd.DataFrame()"
   ]
  },
  {
   "cell_type": "markdown",
   "metadata": {},
   "source": [
    "#### First period"
   ]
  },
  {
   "cell_type": "code",
   "execution_count": 38,
   "metadata": {},
   "outputs": [],
   "source": [
    "# missing forecasters in the first period\n",
    "first_period_forecasters = history_clean[history_clean.TARGET_PERIOD == all_periods[0]].FCT_SOURCE.unique()\n",
    "first_period_missing_forecasters = [i for i in all_forecasters if i not in first_period_forecasters]\n",
    "filled_history = pd.concat([filled_history, \n",
    "                          history_clean[(history_clean.FCT_SOURCE.isin(first_period_forecasters)) & (history_clean.TARGET_PERIOD == all_periods[0])].copy()])"
   ]
  },
  {
   "cell_type": "code",
   "execution_count": 39,
   "metadata": {},
   "outputs": [],
   "source": [
    "av = history_clean[history_clean.TARGET_PERIOD == all_periods[0]][target_buckets].mean().to_dict()\n",
    "for j, f in enumerate(first_period_missing_forecasters):\n",
    "    d = {}\n",
    "    for c in [i for i in history_clean.columns if (i not in target_buckets) and (i not in [\"LOG_LIK\"])]:\n",
    "        d[c] = history_clean[history_clean.TARGET_PERIOD == all_periods[0]][c].iloc[0]\n",
    "        \n",
    "    d.update(av)\n",
    "    d[\"FCT_SOURCE\"] = f\n",
    "    d = pd.DataFrame(d, index=[j])\n",
    "    x = d[d[\"BUCKET\"]].values[0][0] / 100\n",
    "    if x == 0:\n",
    "        x = 0.01\n",
    "        non_zero_col = d[target_buckets].iloc[0][d[target_buckets].iloc[0] > 0]\n",
    "        d.loc[0, non_zero_col.index] = d[non_zero_col.index].iloc[0]- 1 / len(non_zero_col)\n",
    "        d.loc[0, d[\"BUCKET\"].iloc[0]] = 1\n",
    "  \n",
    "    d[\"LOG_LIK\"] = np.log(x)\n",
    "    d[\"LIK\"] = x\n",
    "    filled_history = pd.concat([filled_history, d]).reset_index(drop=True)\n",
    "\n",
    "min_score = filled_history[filled_history.TARGET_PERIOD == all_periods[0]][\"LOG_LIK\"].min()\n",
    "max_score = filled_history[filled_history.TARGET_PERIOD == all_periods[0]][\"LOG_LIK\"].max()\n",
    "filled_history.loc[filled_history.TARGET_PERIOD == all_periods[0], \"GROUP\"] = np.array(pd.cut(filled_history[filled_history.TARGET_PERIOD == all_periods[0]][\"LOG_LIK\"].to_numpy(),np.linspace(min_score*1.01, max_score*0.99, 6), labels=[1, 2, 3, 4, 5], retbins=False))"
   ]
  },
  {
   "cell_type": "markdown",
   "metadata": {},
   "source": [
    "#### The other periods "
   ]
  },
  {
   "cell_type": "code",
   "execution_count": 40,
   "metadata": {},
   "outputs": [],
   "source": [
    "for i, period in enumerate(all_periods[1:]):\n",
    "    period_forecasters = history_clean[history_clean.TARGET_PERIOD==period].FCT_SOURCE.unique()\n",
    "    filled_history = pd.concat([filled_history, \n",
    "                              history_clean[(history_clean.FCT_SOURCE.isin(period_forecasters)) & (history_clean.TARGET_PERIOD == period)].copy()])\n",
    "    period_missing_forecasters = [i for i in all_forecasters if i not in period_forecasters]\n",
    "    #print(i, period, period_missing_forecasters)\n",
    "    for f in period_missing_forecasters:\n",
    "        d = {}\n",
    "        for c in [i for i in history_clean.columns if (i not in target_buckets) and (i not in [\"LOG_LIK\"])]:\n",
    "            d[c] = history_clean[history_clean.TARGET_PERIOD == period][c].iloc[0]\n",
    "        gr = filled_history[(filled_history.TARGET_PERIOD == all_periods[i]) & (filled_history.FCT_SOURCE == f)][\"GROUP\"].values[0]\n",
    "        #print(f)\n",
    "        #print(gr)\n",
    "        forecasters_in_group = filled_history[(filled_history.GROUP == gr) & (filled_history.TARGET_PERIOD == all_periods[i])].FCT_SOURCE\n",
    "        #print(forecasters_in_group)\n",
    "        dd = filled_history[(filled_history.TARGET_PERIOD == all_periods[i]) & (filled_history.FCT_SOURCE.isin(forecasters_in_group))][target_buckets].mean().to_dict()\n",
    "        #print(dd)\n",
    "        d.update(dd)\n",
    "        d[\"FCT_SOURCE\"] = f\n",
    "        d = pd.DataFrame(d, index=[0])\n",
    "        x = d[d[\"BUCKET\"]].values[0][0] / 100\n",
    "        if x == 0:\n",
    "            x = 0.01\n",
    "            non_zero_col = d[target_buckets].iloc[0][d[target_buckets].iloc[0] > 0]\n",
    "            d.loc[0, non_zero_col.index] = d[non_zero_col.index].iloc[0]- 1 / len(non_zero_col)\n",
    "            d.loc[0, d[\"BUCKET\"].iloc[0]] = 1\n",
    "                               \n",
    "        d[\"LOG_LIK\"] = np.log(x)\n",
    "        d[\"LIK\"] = x\n",
    "        filled_history = pd.concat([filled_history, d]).reset_index(drop=True)\n",
    "    \n",
    "    min_score = filled_history[filled_history.TARGET_PERIOD == period][\"LOG_LIK\"].min()\n",
    "    max_score = filled_history[filled_history.TARGET_PERIOD == period][\"LOG_LIK\"].max()\n",
    "    #print(min_score, max_score)\n",
    "    if min_score != max_score:\n",
    "        groups = np.array(pd.cut(filled_history[filled_history.TARGET_PERIOD==period][\"LOG_LIK\"].to_numpy(), np.linspace(min_score*1.01, max_score*0.99, 6), labels=[1, 2, 3, 4, 5], retbins=False))\n",
    "        #print(groups)\n",
    "        #print(filled_history[filled_history.TARGET_PERIOD==period][\"LOG_LIK\"], groups)\n",
    "        filled_history.loc[filled_history.TARGET_PERIOD==period, \"GROUP\"] = groups\n",
    "    else:\n",
    "        filled_history.loc[filled_history.TARGET_PERIOD==period, \"GROUP\"] = 1"
   ]
  },
  {
   "cell_type": "code",
   "execution_count": 41,
   "metadata": {},
   "outputs": [],
   "source": [
    "d = {}\n",
    "ex = pd.DataFrame()\n",
    "for period in all_periods:\n",
    "    extr = filled_history[filled_history.TARGET_PERIOD == period].iloc[0].copy()\n",
    "    extr[\"FCT_SOURCE\"] = \"uniform\"\n",
    "    extr[target_buckets] = [100/len(target_buckets)] * len(target_buckets)\n",
    "    extr[\"LOG_LIK\"] = np.log(extr[target_buckets[0]]/100)\n",
    "    extr[\"LIK\"] = extr[target_buckets[0]]/100\n",
    "    extr = pd.DataFrame(extr).T\n",
    "    ex = pd.concat([ex, extr])\n",
    "    filled_history = pd.concat([filled_history, extr])\n",
    "    dd = filled_history[(filled_history.TARGET_PERIOD == period) & (~filled_history.FCT_SOURCE.isin([\"uniform\"]))][target_buckets].mean().to_dict()\n",
    "    dd[\"BUCKET\"] = filled_history[filled_history.TARGET_PERIOD == period].BUCKET.iloc[0]\n",
    "    dd[\"LOG_LIK\"] = np.log(dd[dd[\"BUCKET\"]]/100)\n",
    "    d[period] = dd"
   ]
  },
  {
   "cell_type": "code",
   "execution_count": 42,
   "metadata": {},
   "outputs": [],
   "source": [
    "filled_history = filled_history.reset_index(drop=True)\n",
    "for tb in target_buckets:\n",
    "    filled_history[tb] = pd.to_numeric(filled_history[tb])"
   ]
  },
  {
   "cell_type": "markdown",
   "metadata": {},
   "source": [
    "### Individual forecasters's scores"
   ]
  },
  {
   "cell_type": "code",
   "execution_count": 43,
   "metadata": {},
   "outputs": [],
   "source": [
    "periods = list(d.keys())[8:]\n",
    "mean_scores = filled_history[(filled_history.TARGET_PERIOD.isin(periods)) & (~filled_history.FCT_SOURCE.isin([\"uniform\"]))].groupby(\"FCT_SOURCE\").LOG_LIK.apply(np.mean)"
   ]
  },
  {
   "cell_type": "code",
   "execution_count": 44,
   "metadata": {},
   "outputs": [],
   "source": [
    "sum_scores = filled_history[(filled_history.TARGET_PERIOD.isin(periods)) & (~filled_history.FCT_SOURCE.isin([\"uniform\"]))].groupby(\"FCT_SOURCE\").LOG_LIK.apply(np.sum)"
   ]
  },
  {
   "cell_type": "code",
   "execution_count": 45,
   "metadata": {},
   "outputs": [
    {
     "data": {
      "text/plain": [
       "-2.080576073136034"
      ]
     },
     "execution_count": 45,
     "metadata": {},
     "output_type": "execute_result"
    }
   ],
   "source": [
    "mean_scores.max()"
   ]
  },
  {
   "cell_type": "code",
   "execution_count": 46,
   "metadata": {},
   "outputs": [
    {
     "data": {
      "text/plain": [
       "-156.04320548520255"
      ]
     },
     "execution_count": 46,
     "metadata": {},
     "output_type": "execute_result"
    }
   ],
   "source": [
    "sum_scores.max()"
   ]
  },
  {
   "cell_type": "code",
   "execution_count": 47,
   "metadata": {},
   "outputs": [
    {
     "data": {
      "text/plain": [
       "-2.241097909338052"
      ]
     },
     "execution_count": 47,
     "metadata": {},
     "output_type": "execute_result"
    }
   ],
   "source": [
    "mean_scores.median()"
   ]
  },
  {
   "cell_type": "code",
   "execution_count": 48,
   "metadata": {},
   "outputs": [
    {
     "data": {
      "text/plain": [
       "-168.08234320035388"
      ]
     },
     "execution_count": 48,
     "metadata": {},
     "output_type": "execute_result"
    }
   ],
   "source": [
    "sum_scores.median()"
   ]
  },
  {
   "cell_type": "markdown",
   "metadata": {},
   "source": [
    "### Simple average probability rectangles"
   ]
  },
  {
   "cell_type": "code",
   "execution_count": 49,
   "metadata": {},
   "outputs": [],
   "source": [
    "realisations = filled_history[[\"TARGET_PERIOD\", \"CHANGE\"]].set_index(\"TARGET_PERIOD\", drop=True).copy().drop_duplicates()\n",
    "realised_df = pd.DataFrame(index=realisations.index, columns=(np.array([-1] + buckets_from[1:]) + np.array(buckets_to[:-1]+[4.5])) * 0.5)\n",
    "for i in range(len(realised_df)):\n",
    "    realised_df.loc[realised_df.index[i], realisations.iloc[i]] = 1.0\n",
    "realised_df.fillna(0.0, inplace=True)    "
   ]
  },
  {
   "cell_type": "code",
   "execution_count": 50,
   "metadata": {},
   "outputs": [
    {
     "data": {
      "image/png": "[encoded data removed]",
      "text/plain": [
       "<Figure size 1800x576 with 2 Axes>"
      ]
     },
     "metadata": {},
     "output_type": "display_data"
    }
   ],
   "source": [
    "from matplotlib.text import Text\n",
    "fig, ax = plt.subplots(figsize=(25,8))\n",
    "filled_history[\"LIK\"]  = filled_history[\"LIK\"].astype(\"float\")\n",
    "filled_history[\"CHANGE\"]  = filled_history[\"CHANGE\"].astype(\"float\")\n",
    "cmap = sns.color_palette(\"light:b\", as_cmap=True)\n",
    "df_avg_prob = filled_history.groupby(\"TARGET_PERIOD\").mean()[target_buckets]\n",
    "df_avg_prob = df_avg_prob.reindex(realised_df.index)\n",
    "df_avg_prob.columns = (np.array([-1] + buckets_from[1:]) + np.array(buckets_to[:-1]+[4.5])) * 0.5\n",
    "sns.heatmap(df_avg_prob[8:].T.iloc[::-1]/100, ax=ax, cmap=cmap,\n",
    "           linewidth=0.3, cbar_kws={\"shrink\": .8}, square=False, vmin=0, vmax=1)\n",
    "\n",
    "ax.set_yticks(np.arange(0,12))\n",
    "ax.plot(np.arange(0,75)+0.5, -(realisations.CHANGE.values[8:] - 4.5) * (12/6), c=\"tab:red\", lw=3)\n",
    "ax.set_ylabel(\"% YOY inflation change\")\n",
    "ax.set_xlabel(\"Target Period\")\n",
    "\n",
    "ax.set_yticklabels([Text(0, 0.5, ''),\n",
    " Text(0, 1, '4.0'),\n",
    " Text(0, 2.5, ''),\n",
    " Text(0, 3, '3.0'),\n",
    " Text(0, 4.5, ''),\n",
    " Text(0, 5, '2.0'),\n",
    " Text(0, 6.5, ''),\n",
    " Text(0, 7, '1.0'),\n",
    " Text(0, 8.5, ''),\n",
    " Text(0, 9, '0.0'),\n",
    " Text(0, 10.5, ''),\n",
    " Text(0, 11, '-1.0')])\n",
    "\n",
    "plt.show()"
   ]
  },
  {
   "cell_type": "markdown",
   "metadata": {},
   "source": [
    "### Diebold (2021) - best-N forecasters results"
   ]
  },
  {
   "cell_type": "code",
   "execution_count": 51,
   "metadata": {},
   "outputs": [
    {
     "data": {
      "application/vnd.jupyter.widget-view+json": {
       "model_id": "08591fad0cba4b57aa85ff822498bdd0",
       "version_major": 2,
       "version_minor": 0
      },
      "text/plain": [
       "0it [00:00, ?it/s]"
      ]
     },
     "metadata": {},
     "output_type": "display_data"
    }
   ],
   "source": [
    "n_forecasters = 3\n",
    "best_4_avg, combinations = best_n_avg(relevant_forecasters + [\"uniform\"], n_forecasters, target_buckets, all_periods, filled_history, target_buckets)"
   ]
  },
  {
   "cell_type": "code",
   "execution_count": 52,
   "metadata": {},
   "outputs": [],
   "source": [
    "def best_n_avg_forecast(best_comb):\n",
    "    res = []\n",
    "    for i, period in enumerate(periods):\n",
    "        dd = filled_history[(filled_history.TARGET_PERIOD == period) & (filled_history.FCT_SOURCE.isin(combinations[int(best_comb.loc[i+7][0])]))][target_buckets].mean().to_dict()\n",
    "        dd[\"BUCKET\"] = filled_history[filled_history.TARGET_PERIOD == period].BUCKET.iloc[0]\n",
    "        res.append([period, np.log(dd[dd[\"BUCKET\"]]/100)])\n",
    "    return res"
   ]
  },
  {
   "cell_type": "code",
   "execution_count": 53,
   "metadata": {},
   "outputs": [],
   "source": [
    "def best_n_avg_forecast_cdf(best_comb):\n",
    "    res = []\n",
    "    for i, period in enumerate(periods):\n",
    "        dd = filled_history[(filled_history.TARGET_PERIOD == period) & (filled_history.FCT_SOURCE.isin(combinations[int(best_comb.loc[i+7][0])]))][target_buckets].mean().to_dict()\n",
    "        dd[\"BUCKET\"] = filled_history[filled_history.TARGET_PERIOD == period].BUCKET.iloc[0]\n",
    "        dd = pd.DataFrame(dd, index=[0])\n",
    "        res.append(dd.loc[0, dd.columns[list(dd.columns).index(dd[\"BUCKET\"].values):11]].sum())\n",
    "    return res"
   ]
  },
  {
   "cell_type": "code",
   "execution_count": 54,
   "metadata": {},
   "outputs": [],
   "source": [
    "best_comb = pd.DataFrame(best_4_avg.rolling(window=20, min_periods=8).sum().idxmax(axis=\"columns\"))\n",
    "best_comb[\"period\"] = all_periods"
   ]
  },
  {
   "cell_type": "code",
   "execution_count": 55,
   "metadata": {},
   "outputs": [],
   "source": [
    "combs = []\n",
    "for r in range(len(best_comb)):\n",
    "    try:\n",
    "        combs.append(combinations[int(best_comb.iloc[r][0])])\n",
    "    except:\n",
    "        combs.append(np.nan)\n",
    "best_comb.loc[:, \"combination\"] = np.array(combs, dtype=\"object\")\n",
    "best_comb = best_comb.merge(history_clean[[\"TARGET_PERIOD\", \"DATE\"]].drop_duplicates(), left_on=\"period\", right_on=\"TARGET_PERIOD\", how=\"left\")"
   ]
  },
  {
   "cell_type": "code",
   "execution_count": 56,
   "metadata": {},
   "outputs": [],
   "source": [
    "y_vals = dict(zip(filled_history.FCT_SOURCE.unique(), np.arange(1, len(filled_history.FCT_SOURCE.unique())+1)))\n",
    "pd_best4_weights = pd.DataFrame(index=best_comb.period , columns=filled_history.FCT_SOURCE.unique()).reset_index()\n",
    "for i in range(len(best_comb)):\n",
    "    if isinstance(best_comb.combination.iloc[i], list):\n",
    "        for c in best_comb.combination.iloc[i]:\n",
    "            pd_best4_weights.loc[i, c] = y_vals[c]\n",
    "pd_best4_weights = pd_best4_weights.merge(history_clean[[\"TARGET_PERIOD\", \"DATE\"]], left_on=\"period\", right_on=\"TARGET_PERIOD\")\n",
    "pd_best4_weights.set_index(\"DATE\", drop=True, inplace=True)\n",
    "pd_best4_weights.drop(columns=[\"period\", \"TARGET_PERIOD\"], inplace=True)"
   ]
  },
  {
   "cell_type": "code",
   "execution_count": 57,
   "metadata": {},
   "outputs": [
    {
     "data": {
      "text/plain": [
       "(-1.994201069865572, -149.56508023991793)"
      ]
     },
     "execution_count": 57,
     "metadata": {},
     "output_type": "execute_result"
    }
   ],
   "source": [
    "(pd.DataFrame(best_n_avg_forecast(best_comb))[1].mean(), pd.DataFrame(best_n_avg_forecast(best_comb))[1].sum())"
   ]
  },
  {
   "cell_type": "markdown",
   "metadata": {},
   "source": [
    "## Loss Discounting Framework"
   ]
  },
  {
   "cell_type": "code",
   "execution_count": 58,
   "metadata": {},
   "outputs": [],
   "source": [
    "from ldf.ldf import ldf"
   ]
  },
  {
   "cell_type": "code",
   "execution_count": 59,
   "metadata": {},
   "outputs": [
    {
     "data": {
      "text/html": [
       "<div>\n",
       "<style scoped>\n",
       "    .dataframe tbody tr th:only-of-type {\n",
       "        vertical-align: middle;\n",
       "    }\n",
       "\n",
       "    .dataframe tbody tr th {\n",
       "        vertical-align: top;\n",
       "    }\n",
       "\n",
       "    .dataframe thead th {\n",
       "        text-align: right;\n",
       "    }\n",
       "</style>\n",
       "<table border=\"1\" class=\"dataframe\">\n",
       "  <thead>\n",
       "    <tr style=\"text-align: right;\">\n",
       "      <th>FCT_SOURCE</th>\n",
       "      <th>1</th>\n",
       "      <th>16</th>\n",
       "      <th>2</th>\n",
       "      <th>20</th>\n",
       "      <th>24</th>\n",
       "      <th>26</th>\n",
       "      <th>37</th>\n",
       "      <th>39</th>\n",
       "      <th>4</th>\n",
       "      <th>47</th>\n",
       "      <th>48</th>\n",
       "      <th>5</th>\n",
       "      <th>52</th>\n",
       "      <th>54</th>\n",
       "      <th>89</th>\n",
       "      <th>94</th>\n",
       "      <th>95</th>\n",
       "      <th>uniform</th>\n",
       "    </tr>\n",
       "    <tr>\n",
       "      <th>PERIOD_ENUM</th>\n",
       "      <th></th>\n",
       "      <th></th>\n",
       "      <th></th>\n",
       "      <th></th>\n",
       "      <th></th>\n",
       "      <th></th>\n",
       "      <th></th>\n",
       "      <th></th>\n",
       "      <th></th>\n",
       "      <th></th>\n",
       "      <th></th>\n",
       "      <th></th>\n",
       "      <th></th>\n",
       "      <th></th>\n",
       "      <th></th>\n",
       "      <th></th>\n",
       "      <th></th>\n",
       "      <th></th>\n",
       "    </tr>\n",
       "  </thead>\n",
       "  <tbody>\n",
       "    <tr>\n",
       "      <th>0</th>\n",
       "      <td>-2.302585</td>\n",
       "      <td>-0.916291</td>\n",
       "      <td>-2.302585</td>\n",
       "      <td>-4.60517</td>\n",
       "      <td>-1.203973</td>\n",
       "      <td>-1.203973</td>\n",
       "      <td>-0.356675</td>\n",
       "      <td>-0.916291</td>\n",
       "      <td>-0.916291</td>\n",
       "      <td>-1.609438</td>\n",
       "      <td>-1.494127</td>\n",
       "      <td>-4.60517</td>\n",
       "      <td>-4.60517</td>\n",
       "      <td>-2.995732</td>\n",
       "      <td>-2.302585</td>\n",
       "      <td>-0.916291</td>\n",
       "      <td>-2.197225</td>\n",
       "      <td>-2.397895</td>\n",
       "    </tr>\n",
       "    <tr>\n",
       "      <th>1</th>\n",
       "      <td>-4.60517</td>\n",
       "      <td>-1.203973</td>\n",
       "      <td>-3.688879</td>\n",
       "      <td>-4.60517</td>\n",
       "      <td>-1.203973</td>\n",
       "      <td>-4.60517</td>\n",
       "      <td>-1.203973</td>\n",
       "      <td>-1.609438</td>\n",
       "      <td>-4.60517</td>\n",
       "      <td>-4.60517</td>\n",
       "      <td>-4.60517</td>\n",
       "      <td>-4.60517</td>\n",
       "      <td>-4.60517</td>\n",
       "      <td>-2.302585</td>\n",
       "      <td>-4.60517</td>\n",
       "      <td>-4.60517</td>\n",
       "      <td>-2.813411</td>\n",
       "      <td>-2.397895</td>\n",
       "    </tr>\n",
       "    <tr>\n",
       "      <th>2</th>\n",
       "      <td>-4.60517</td>\n",
       "      <td>-1.609438</td>\n",
       "      <td>-3.688879</td>\n",
       "      <td>-4.60517</td>\n",
       "      <td>-1.290984</td>\n",
       "      <td>-1.203973</td>\n",
       "      <td>-0.916291</td>\n",
       "      <td>-1.609438</td>\n",
       "      <td>-4.60517</td>\n",
       "      <td>-4.60517</td>\n",
       "      <td>-4.60517</td>\n",
       "      <td>-4.60517</td>\n",
       "      <td>-1.203973</td>\n",
       "      <td>-1.89712</td>\n",
       "      <td>-4.60517</td>\n",
       "      <td>-2.302585</td>\n",
       "      <td>-2.525729</td>\n",
       "      <td>-2.397895</td>\n",
       "    </tr>\n",
       "    <tr>\n",
       "      <th>3</th>\n",
       "      <td>-1.609438</td>\n",
       "      <td>-2.995732</td>\n",
       "      <td>-1.89712</td>\n",
       "      <td>-4.60517</td>\n",
       "      <td>-2.302585</td>\n",
       "      <td>-2.302585</td>\n",
       "      <td>-0.916291</td>\n",
       "      <td>-1.609438</td>\n",
       "      <td>-1.609438</td>\n",
       "      <td>-4.60517</td>\n",
       "      <td>-4.60517</td>\n",
       "      <td>-2.995732</td>\n",
       "      <td>-1.203973</td>\n",
       "      <td>-2.302585</td>\n",
       "      <td>-1.203973</td>\n",
       "      <td>-4.60517</td>\n",
       "      <td>-1.976063</td>\n",
       "      <td>-2.397895</td>\n",
       "    </tr>\n",
       "    <tr>\n",
       "      <th>4</th>\n",
       "      <td>-4.60517</td>\n",
       "      <td>-4.60517</td>\n",
       "      <td>-2.995732</td>\n",
       "      <td>-4.60517</td>\n",
       "      <td>-4.60517</td>\n",
       "      <td>-4.60517</td>\n",
       "      <td>-4.60517</td>\n",
       "      <td>-4.60517</td>\n",
       "      <td>-2.302585</td>\n",
       "      <td>-4.60517</td>\n",
       "      <td>-4.60517</td>\n",
       "      <td>-4.60517</td>\n",
       "      <td>-4.787492</td>\n",
       "      <td>-4.60517</td>\n",
       "      <td>-2.302585</td>\n",
       "      <td>-4.60517</td>\n",
       "      <td>-2.65926</td>\n",
       "      <td>-2.397895</td>\n",
       "    </tr>\n",
       "  </tbody>\n",
       "</table>\n",
       "</div>"
      ],
      "text/plain": [
       "FCT_SOURCE          1        16         2       20        24        26  \\\n",
       "PERIOD_ENUM                                                              \n",
       "0           -2.302585 -0.916291 -2.302585 -4.60517 -1.203973 -1.203973   \n",
       "1            -4.60517 -1.203973 -3.688879 -4.60517 -1.203973  -4.60517   \n",
       "2            -4.60517 -1.609438 -3.688879 -4.60517 -1.290984 -1.203973   \n",
       "3           -1.609438 -2.995732  -1.89712 -4.60517 -2.302585 -2.302585   \n",
       "4            -4.60517  -4.60517 -2.995732 -4.60517  -4.60517  -4.60517   \n",
       "\n",
       "FCT_SOURCE         37        39         4        47        48         5  \\\n",
       "PERIOD_ENUM                                                               \n",
       "0           -0.356675 -0.916291 -0.916291 -1.609438 -1.494127  -4.60517   \n",
       "1           -1.203973 -1.609438  -4.60517  -4.60517  -4.60517  -4.60517   \n",
       "2           -0.916291 -1.609438  -4.60517  -4.60517  -4.60517  -4.60517   \n",
       "3           -0.916291 -1.609438 -1.609438  -4.60517  -4.60517 -2.995732   \n",
       "4            -4.60517  -4.60517 -2.302585  -4.60517  -4.60517  -4.60517   \n",
       "\n",
       "FCT_SOURCE         52        54        89        94        95   uniform  \n",
       "PERIOD_ENUM                                                              \n",
       "0            -4.60517 -2.995732 -2.302585 -0.916291 -2.197225 -2.397895  \n",
       "1            -4.60517 -2.302585  -4.60517  -4.60517 -2.813411 -2.397895  \n",
       "2           -1.203973  -1.89712  -4.60517 -2.302585 -2.525729 -2.397895  \n",
       "3           -1.203973 -2.302585 -1.203973  -4.60517 -1.976063 -2.397895  \n",
       "4           -4.787492  -4.60517 -2.302585  -4.60517  -2.65926 -2.397895  "
      ]
     },
     "execution_count": 59,
     "metadata": {},
     "output_type": "execute_result"
    }
   ],
   "source": [
    "forecast_table = filled_history[[\"PERIOD_ENUM\", \"FCT_SOURCE\", \"LOG_LIK\"]].pivot(index=\"PERIOD_ENUM\", columns=\"FCT_SOURCE\", values=\"LOG_LIK\")\n",
    "forecast_table.head()"
   ]
  },
  {
   "cell_type": "markdown",
   "metadata": {},
   "source": [
    "### 2-level LDF(softmax, argmax)"
   ]
  },
  {
   "cell_type": "code",
   "execution_count": 60,
   "metadata": {},
   "outputs": [],
   "source": [
    "c= 10**(-20)\n",
    "discount_factors = np.array([1, 0.99, 0.95, 0.9, 0.8, 0.7, 0.6, 0.5, 0.4, 0.3, 0.2, 0.001]) # np.linspace(0.2, 1.0, 81)"
   ]
  },
  {
   "cell_type": "code",
   "execution_count": 61,
   "metadata": {},
   "outputs": [
    {
     "data": {
      "text/html": [
       "<style type=\"text/css\">\n",
       "</style>\n",
       "<table id=\"T_1de89_\">\n",
       "  <thead>\n",
       "    <tr>\n",
       "      <th class=\"blank level0\" >&nbsp;</th>\n",
       "      <th class=\"col_heading level0 col0\" >0</th>\n",
       "      <th class=\"col_heading level0 col1\" >1</th>\n",
       "      <th class=\"col_heading level0 col2\" >2</th>\n",
       "    </tr>\n",
       "  </thead>\n",
       "  <tbody>\n",
       "    <tr>\n",
       "      <th id=\"T_1de89_level0_row0\" class=\"row_heading level0 row0\" >0</th>\n",
       "      <td id=\"T_1de89_row0_col0\" class=\"data row0 col0\" >1.00</td>\n",
       "      <td id=\"T_1de89_row0_col1\" class=\"data row0 col1\" >-1.94</td>\n",
       "      <td id=\"T_1de89_row0_col2\" class=\"data row0 col2\" >-145.71</td>\n",
       "    </tr>\n",
       "    <tr>\n",
       "      <th id=\"T_1de89_level0_row1\" class=\"row_heading level0 row1\" >1</th>\n",
       "      <td id=\"T_1de89_row1_col0\" class=\"data row1 col0\" >0.99</td>\n",
       "      <td id=\"T_1de89_row1_col1\" class=\"data row1 col1\" >-1.95</td>\n",
       "      <td id=\"T_1de89_row1_col2\" class=\"data row1 col2\" >-146.07</td>\n",
       "    </tr>\n",
       "    <tr>\n",
       "      <th id=\"T_1de89_level0_row2\" class=\"row_heading level0 row2\" >2</th>\n",
       "      <td id=\"T_1de89_row2_col0\" class=\"data row2 col0\" >0.95</td>\n",
       "      <td id=\"T_1de89_row2_col1\" class=\"data row2 col1\" >-1.93</td>\n",
       "      <td id=\"T_1de89_row2_col2\" class=\"data row2 col2\" >-144.87</td>\n",
       "    </tr>\n",
       "    <tr>\n",
       "      <th id=\"T_1de89_level0_row3\" class=\"row_heading level0 row3\" >3</th>\n",
       "      <td id=\"T_1de89_row3_col0\" class=\"data row3 col0\" >0.90</td>\n",
       "      <td id=\"T_1de89_row3_col1\" class=\"data row3 col1\" >-1.90</td>\n",
       "      <td id=\"T_1de89_row3_col2\" class=\"data row3 col2\" >-142.31</td>\n",
       "    </tr>\n",
       "    <tr>\n",
       "      <th id=\"T_1de89_level0_row4\" class=\"row_heading level0 row4\" >4</th>\n",
       "      <td id=\"T_1de89_row4_col0\" class=\"data row4 col0\" >0.80</td>\n",
       "      <td id=\"T_1de89_row4_col1\" class=\"data row4 col1\" >-1.90</td>\n",
       "      <td id=\"T_1de89_row4_col2\" class=\"data row4 col2\" >-142.13</td>\n",
       "    </tr>\n",
       "    <tr>\n",
       "      <th id=\"T_1de89_level0_row5\" class=\"row_heading level0 row5\" >5</th>\n",
       "      <td id=\"T_1de89_row5_col0\" class=\"data row5 col0\" >0.70</td>\n",
       "      <td id=\"T_1de89_row5_col1\" class=\"data row5 col1\" >-1.88</td>\n",
       "      <td id=\"T_1de89_row5_col2\" class=\"data row5 col2\" >-140.91</td>\n",
       "    </tr>\n",
       "    <tr>\n",
       "      <th id=\"T_1de89_level0_row6\" class=\"row_heading level0 row6\" >6</th>\n",
       "      <td id=\"T_1de89_row6_col0\" class=\"data row6 col0\" >0.60</td>\n",
       "      <td id=\"T_1de89_row6_col1\" class=\"data row6 col1\" >-1.90</td>\n",
       "      <td id=\"T_1de89_row6_col2\" class=\"data row6 col2\" >-142.65</td>\n",
       "    </tr>\n",
       "    <tr>\n",
       "      <th id=\"T_1de89_level0_row7\" class=\"row_heading level0 row7\" >7</th>\n",
       "      <td id=\"T_1de89_row7_col0\" class=\"data row7 col0\" >0.50</td>\n",
       "      <td id=\"T_1de89_row7_col1\" class=\"data row7 col1\" >-1.88</td>\n",
       "      <td id=\"T_1de89_row7_col2\" class=\"data row7 col2\" >-141.25</td>\n",
       "    </tr>\n",
       "    <tr>\n",
       "      <th id=\"T_1de89_level0_row8\" class=\"row_heading level0 row8\" >8</th>\n",
       "      <td id=\"T_1de89_row8_col0\" class=\"data row8 col0\" >0.40</td>\n",
       "      <td id=\"T_1de89_row8_col1\" class=\"data row8 col1\" >-1.89</td>\n",
       "      <td id=\"T_1de89_row8_col2\" class=\"data row8 col2\" >-141.44</td>\n",
       "    </tr>\n",
       "    <tr>\n",
       "      <th id=\"T_1de89_level0_row9\" class=\"row_heading level0 row9\" >9</th>\n",
       "      <td id=\"T_1de89_row9_col0\" class=\"data row9 col0\" >0.30</td>\n",
       "      <td id=\"T_1de89_row9_col1\" class=\"data row9 col1\" >-1.91</td>\n",
       "      <td id=\"T_1de89_row9_col2\" class=\"data row9 col2\" >-143.35</td>\n",
       "    </tr>\n",
       "    <tr>\n",
       "      <th id=\"T_1de89_level0_row10\" class=\"row_heading level0 row10\" >10</th>\n",
       "      <td id=\"T_1de89_row10_col0\" class=\"data row10 col0\" >0.20</td>\n",
       "      <td id=\"T_1de89_row10_col1\" class=\"data row10 col1\" >-1.89</td>\n",
       "      <td id=\"T_1de89_row10_col2\" class=\"data row10 col2\" >-141.71</td>\n",
       "    </tr>\n",
       "    <tr>\n",
       "      <th id=\"T_1de89_level0_row11\" class=\"row_heading level0 row11\" >11</th>\n",
       "      <td id=\"T_1de89_row11_col0\" class=\"data row11 col0\" >0.00</td>\n",
       "      <td id=\"T_1de89_row11_col1\" class=\"data row11 col1\" >-1.89</td>\n",
       "      <td id=\"T_1de89_row11_col2\" class=\"data row11 col2\" >-141.48</td>\n",
       "    </tr>\n",
       "  </tbody>\n",
       "</table>\n"
      ],
      "text/plain": [
       "<pandas.io.formats.style.Styler at 0x2998dfbbeb0>"
      ]
     },
     "execution_count": 61,
     "metadata": {},
     "output_type": "execute_result"
    }
   ],
   "source": [
    "res_ldf = ldf(forecast_table.to_numpy().astype(float).T, levels=2, discount_factors=[discount_factors, discount_factors], activation_functions=[\"softmax\", \"argmax\"], c=c)\n",
    "ldfa_df = pd.DataFrame([discount_factors, res_ldf[\"logscores\"][:,-75:].mean(axis=1), res_ldf[\"logscores\"][:,-75:].sum(axis=1)]).T\n",
    "ldfa_df.style.format(\"{:.2f}\")"
   ]
  },
  {
   "cell_type": "markdown",
   "metadata": {},
   "source": [
    "### 2-level LDF(softmax, softmax)"
   ]
  },
  {
   "cell_type": "code",
   "execution_count": 62,
   "metadata": {},
   "outputs": [
    {
     "data": {
      "text/html": [
       "<style type=\"text/css\">\n",
       "</style>\n",
       "<table id=\"T_01ade_\">\n",
       "  <thead>\n",
       "    <tr>\n",
       "      <th class=\"blank level0\" >&nbsp;</th>\n",
       "      <th class=\"col_heading level0 col0\" >0</th>\n",
       "      <th class=\"col_heading level0 col1\" >1</th>\n",
       "      <th class=\"col_heading level0 col2\" >2</th>\n",
       "    </tr>\n",
       "  </thead>\n",
       "  <tbody>\n",
       "    <tr>\n",
       "      <th id=\"T_01ade_level0_row0\" class=\"row_heading level0 row0\" >0</th>\n",
       "      <td id=\"T_01ade_row0_col0\" class=\"data row0 col0\" >1.000</td>\n",
       "      <td id=\"T_01ade_row0_col1\" class=\"data row0 col1\" >-1.920</td>\n",
       "      <td id=\"T_01ade_row0_col2\" class=\"data row0 col2\" >-144.000</td>\n",
       "    </tr>\n",
       "    <tr>\n",
       "      <th id=\"T_01ade_level0_row1\" class=\"row_heading level0 row1\" >1</th>\n",
       "      <td id=\"T_01ade_row1_col0\" class=\"data row1 col0\" >0.990</td>\n",
       "      <td id=\"T_01ade_row1_col1\" class=\"data row1 col1\" >-1.921</td>\n",
       "      <td id=\"T_01ade_row1_col2\" class=\"data row1 col2\" >-144.072</td>\n",
       "    </tr>\n",
       "    <tr>\n",
       "      <th id=\"T_01ade_level0_row2\" class=\"row_heading level0 row2\" >2</th>\n",
       "      <td id=\"T_01ade_row2_col0\" class=\"data row2 col0\" >0.950</td>\n",
       "      <td id=\"T_01ade_row2_col1\" class=\"data row2 col1\" >-1.924</td>\n",
       "      <td id=\"T_01ade_row2_col2\" class=\"data row2 col2\" >-144.335</td>\n",
       "    </tr>\n",
       "    <tr>\n",
       "      <th id=\"T_01ade_level0_row3\" class=\"row_heading level0 row3\" >3</th>\n",
       "      <td id=\"T_01ade_row3_col0\" class=\"data row3 col0\" >0.900</td>\n",
       "      <td id=\"T_01ade_row3_col1\" class=\"data row3 col1\" >-1.926</td>\n",
       "      <td id=\"T_01ade_row3_col2\" class=\"data row3 col2\" >-144.444</td>\n",
       "    </tr>\n",
       "    <tr>\n",
       "      <th id=\"T_01ade_level0_row4\" class=\"row_heading level0 row4\" >4</th>\n",
       "      <td id=\"T_01ade_row4_col0\" class=\"data row4 col0\" >0.800</td>\n",
       "      <td id=\"T_01ade_row4_col1\" class=\"data row4 col1\" >-1.926</td>\n",
       "      <td id=\"T_01ade_row4_col2\" class=\"data row4 col2\" >-144.421</td>\n",
       "    </tr>\n",
       "    <tr>\n",
       "      <th id=\"T_01ade_level0_row5\" class=\"row_heading level0 row5\" >5</th>\n",
       "      <td id=\"T_01ade_row5_col0\" class=\"data row5 col0\" >0.700</td>\n",
       "      <td id=\"T_01ade_row5_col1\" class=\"data row5 col1\" >-1.924</td>\n",
       "      <td id=\"T_01ade_row5_col2\" class=\"data row5 col2\" >-144.280</td>\n",
       "    </tr>\n",
       "    <tr>\n",
       "      <th id=\"T_01ade_level0_row6\" class=\"row_heading level0 row6\" >6</th>\n",
       "      <td id=\"T_01ade_row6_col0\" class=\"data row6 col0\" >0.600</td>\n",
       "      <td id=\"T_01ade_row6_col1\" class=\"data row6 col1\" >-1.922</td>\n",
       "      <td id=\"T_01ade_row6_col2\" class=\"data row6 col2\" >-144.147</td>\n",
       "    </tr>\n",
       "    <tr>\n",
       "      <th id=\"T_01ade_level0_row7\" class=\"row_heading level0 row7\" >7</th>\n",
       "      <td id=\"T_01ade_row7_col0\" class=\"data row7 col0\" >0.500</td>\n",
       "      <td id=\"T_01ade_row7_col1\" class=\"data row7 col1\" >-1.921</td>\n",
       "      <td id=\"T_01ade_row7_col2\" class=\"data row7 col2\" >-144.071</td>\n",
       "    </tr>\n",
       "    <tr>\n",
       "      <th id=\"T_01ade_level0_row8\" class=\"row_heading level0 row8\" >8</th>\n",
       "      <td id=\"T_01ade_row8_col0\" class=\"data row8 col0\" >0.400</td>\n",
       "      <td id=\"T_01ade_row8_col1\" class=\"data row8 col1\" >-1.921</td>\n",
       "      <td id=\"T_01ade_row8_col2\" class=\"data row8 col2\" >-144.049</td>\n",
       "    </tr>\n",
       "    <tr>\n",
       "      <th id=\"T_01ade_level0_row9\" class=\"row_heading level0 row9\" >9</th>\n",
       "      <td id=\"T_01ade_row9_col0\" class=\"data row9 col0\" >0.300</td>\n",
       "      <td id=\"T_01ade_row9_col1\" class=\"data row9 col1\" >-1.921</td>\n",
       "      <td id=\"T_01ade_row9_col2\" class=\"data row9 col2\" >-144.064</td>\n",
       "    </tr>\n",
       "    <tr>\n",
       "      <th id=\"T_01ade_level0_row10\" class=\"row_heading level0 row10\" >10</th>\n",
       "      <td id=\"T_01ade_row10_col0\" class=\"data row10 col0\" >0.200</td>\n",
       "      <td id=\"T_01ade_row10_col1\" class=\"data row10 col1\" >-1.921</td>\n",
       "      <td id=\"T_01ade_row10_col2\" class=\"data row10 col2\" >-144.100</td>\n",
       "    </tr>\n",
       "    <tr>\n",
       "      <th id=\"T_01ade_level0_row11\" class=\"row_heading level0 row11\" >11</th>\n",
       "      <td id=\"T_01ade_row11_col0\" class=\"data row11 col0\" >0.001</td>\n",
       "      <td id=\"T_01ade_row11_col1\" class=\"data row11 col1\" >-1.923</td>\n",
       "      <td id=\"T_01ade_row11_col2\" class=\"data row11 col2\" >-144.197</td>\n",
       "    </tr>\n",
       "  </tbody>\n",
       "</table>\n"
      ],
      "text/plain": [
       "<pandas.io.formats.style.Styler at 0x2998e5244c0>"
      ]
     },
     "execution_count": 62,
     "metadata": {},
     "output_type": "execute_result"
    }
   ],
   "source": [
    "res_ldf = ldf(forecast_table.to_numpy().astype(float).T, levels=2, discount_factors=[discount_factors, discount_factors], activation_functions=[\"softmax\", \"softmax\"], c=c)\n",
    "ldfs_df = pd.DataFrame([discount_factors, res_ldf[\"logscores\"][:,-75:].mean(axis=1), res_ldf[\"logscores\"][:,-75:].sum(axis=1)]).T\n",
    "ldfs_df.style.format(\"{:.3f}\")"
   ]
  },
  {
   "cell_type": "markdown",
   "metadata": {},
   "source": [
    "### 1-level LDF(softmax) (DMA)"
   ]
  },
  {
   "cell_type": "code",
   "execution_count": 63,
   "metadata": {},
   "outputs": [
    {
     "data": {
      "text/html": [
       "<style type=\"text/css\">\n",
       "</style>\n",
       "<table id=\"T_244e1_\">\n",
       "  <thead>\n",
       "    <tr>\n",
       "      <th class=\"blank level0\" >&nbsp;</th>\n",
       "      <th class=\"col_heading level0 col0\" >0</th>\n",
       "      <th class=\"col_heading level0 col1\" >1</th>\n",
       "      <th class=\"col_heading level0 col2\" >2</th>\n",
       "    </tr>\n",
       "  </thead>\n",
       "  <tbody>\n",
       "    <tr>\n",
       "      <th id=\"T_244e1_level0_row0\" class=\"row_heading level0 row0\" >0</th>\n",
       "      <td id=\"T_244e1_row0_col0\" class=\"data row0 col0\" >1.00</td>\n",
       "      <td id=\"T_244e1_row0_col1\" class=\"data row0 col1\" >-2.16</td>\n",
       "      <td id=\"T_244e1_row0_col2\" class=\"data row0 col2\" >-162.11</td>\n",
       "    </tr>\n",
       "    <tr>\n",
       "      <th id=\"T_244e1_level0_row1\" class=\"row_heading level0 row1\" >1</th>\n",
       "      <td id=\"T_244e1_row1_col0\" class=\"data row1 col0\" >0.99</td>\n",
       "      <td id=\"T_244e1_row1_col1\" class=\"data row1 col1\" >-2.10</td>\n",
       "      <td id=\"T_244e1_row1_col2\" class=\"data row1 col2\" >-157.87</td>\n",
       "    </tr>\n",
       "    <tr>\n",
       "      <th id=\"T_244e1_level0_row2\" class=\"row_heading level0 row2\" >2</th>\n",
       "      <td id=\"T_244e1_row2_col0\" class=\"data row2 col0\" >0.95</td>\n",
       "      <td id=\"T_244e1_row2_col1\" class=\"data row2 col1\" >-2.02</td>\n",
       "      <td id=\"T_244e1_row2_col2\" class=\"data row2 col2\" >-151.35</td>\n",
       "    </tr>\n",
       "    <tr>\n",
       "      <th id=\"T_244e1_level0_row3\" class=\"row_heading level0 row3\" >3</th>\n",
       "      <td id=\"T_244e1_row3_col0\" class=\"data row3 col0\" >0.90</td>\n",
       "      <td id=\"T_244e1_row3_col1\" class=\"data row3 col1\" >-1.97</td>\n",
       "      <td id=\"T_244e1_row3_col2\" class=\"data row3 col2\" >-147.58</td>\n",
       "    </tr>\n",
       "    <tr>\n",
       "      <th id=\"T_244e1_level0_row4\" class=\"row_heading level0 row4\" >4</th>\n",
       "      <td id=\"T_244e1_row4_col0\" class=\"data row4 col0\" >0.80</td>\n",
       "      <td id=\"T_244e1_row4_col1\" class=\"data row4 col1\" >-1.91</td>\n",
       "      <td id=\"T_244e1_row4_col2\" class=\"data row4 col2\" >-143.60</td>\n",
       "    </tr>\n",
       "    <tr>\n",
       "      <th id=\"T_244e1_level0_row5\" class=\"row_heading level0 row5\" >5</th>\n",
       "      <td id=\"T_244e1_row5_col0\" class=\"data row5 col0\" >0.70</td>\n",
       "      <td id=\"T_244e1_row5_col1\" class=\"data row5 col1\" >-1.90</td>\n",
       "      <td id=\"T_244e1_row5_col2\" class=\"data row5 col2\" >-142.40</td>\n",
       "    </tr>\n",
       "    <tr>\n",
       "      <th id=\"T_244e1_level0_row6\" class=\"row_heading level0 row6\" >6</th>\n",
       "      <td id=\"T_244e1_row6_col0\" class=\"data row6 col0\" >0.60</td>\n",
       "      <td id=\"T_244e1_row6_col1\" class=\"data row6 col1\" >-1.91</td>\n",
       "      <td id=\"T_244e1_row6_col2\" class=\"data row6 col2\" >-143.00</td>\n",
       "    </tr>\n",
       "    <tr>\n",
       "      <th id=\"T_244e1_level0_row7\" class=\"row_heading level0 row7\" >7</th>\n",
       "      <td id=\"T_244e1_row7_col0\" class=\"data row7 col0\" >0.50</td>\n",
       "      <td id=\"T_244e1_row7_col1\" class=\"data row7 col1\" >-1.92</td>\n",
       "      <td id=\"T_244e1_row7_col2\" class=\"data row7 col2\" >-144.28</td>\n",
       "    </tr>\n",
       "    <tr>\n",
       "      <th id=\"T_244e1_level0_row8\" class=\"row_heading level0 row8\" >8</th>\n",
       "      <td id=\"T_244e1_row8_col0\" class=\"data row8 col0\" >0.40</td>\n",
       "      <td id=\"T_244e1_row8_col1\" class=\"data row8 col1\" >-1.94</td>\n",
       "      <td id=\"T_244e1_row8_col2\" class=\"data row8 col2\" >-145.70</td>\n",
       "    </tr>\n",
       "    <tr>\n",
       "      <th id=\"T_244e1_level0_row9\" class=\"row_heading level0 row9\" >9</th>\n",
       "      <td id=\"T_244e1_row9_col0\" class=\"data row9 col0\" >0.30</td>\n",
       "      <td id=\"T_244e1_row9_col1\" class=\"data row9 col1\" >-1.96</td>\n",
       "      <td id=\"T_244e1_row9_col2\" class=\"data row9 col2\" >-147.04</td>\n",
       "    </tr>\n",
       "    <tr>\n",
       "      <th id=\"T_244e1_level0_row10\" class=\"row_heading level0 row10\" >10</th>\n",
       "      <td id=\"T_244e1_row10_col0\" class=\"data row10 col0\" >0.20</td>\n",
       "      <td id=\"T_244e1_row10_col1\" class=\"data row10 col1\" >-1.98</td>\n",
       "      <td id=\"T_244e1_row10_col2\" class=\"data row10 col2\" >-148.23</td>\n",
       "    </tr>\n",
       "    <tr>\n",
       "      <th id=\"T_244e1_level0_row11\" class=\"row_heading level0 row11\" >11</th>\n",
       "      <td id=\"T_244e1_row11_col0\" class=\"data row11 col0\" >0.00</td>\n",
       "      <td id=\"T_244e1_row11_col1\" class=\"data row11 col1\" >-2.00</td>\n",
       "      <td id=\"T_244e1_row11_col2\" class=\"data row11 col2\" >-150.06</td>\n",
       "    </tr>\n",
       "  </tbody>\n",
       "</table>\n"
      ],
      "text/plain": [
       "<pandas.io.formats.style.Styler at 0x29991f33e20>"
      ]
     },
     "execution_count": 63,
     "metadata": {},
     "output_type": "execute_result"
    }
   ],
   "source": [
    "res_dma = ldf(forecast_table.to_numpy().astype(float).T, levels=1, discount_factors=[discount_factors], activation_functions=[\"softmax\"], c=c)\n",
    "res_dma_df = pd.DataFrame([discount_factors, res_dma[\"logscores\"][:,-75:].mean(axis=1), res_dma[\"logscores\"][:,-75:].sum(axis=1)]).T\n",
    "res_dma_df.style.format(\"{:.2f}\")"
   ]
  },
  {
   "cell_type": "code",
   "execution_count": 64,
   "metadata": {},
   "outputs": [
    {
     "data": {
      "image/png": "[encoded data removed]",
      "text/plain": [
       "<Figure size 432x432 with 1 Axes>"
      ]
     },
     "metadata": {},
     "output_type": "display_data"
    }
   ],
   "source": [
    "fig, ax = plt.subplots(1, 1, figsize=(6,6))\n",
    "ax.scatter(ldfs_df[0].to_list()[:-1], ldfs_df[1].to_list()[:-1], marker='o', color='yellowgreen', label=\"$LDF_{s, s}^2$\", s=40, alpha=0.8)\n",
    "ax.scatter(ldfa_df[0].to_list()[:-1], ldfa_df[1].to_list()[:-1], marker='o', color='tab:blue', label=\"$LDF_{s, a}^2$\", s=40, alpha=0.8)\n",
    "ax.scatter(res_dma_df[0].to_list()[:-1], res_dma_df[1].to_list()[:-1], marker='o', color='tab:red', label=\"DMA\", s=40, alpha=0.8)\n",
    "ax.set_ylabel(r\"MLS\")\n",
    "ax.legend(loc=\"lower left\");"
   ]
  },
  {
   "cell_type": "markdown",
   "metadata": {},
   "source": [
    "### 2-level LDF(softmax, argmax) $\\delta=0.7$ probability rectangles"
   ]
  },
  {
   "cell_type": "code",
   "execution_count": 65,
   "metadata": {},
   "outputs": [],
   "source": [
    "res_best = ldf(forecast_table.to_numpy().astype(float).T, levels=2, discount_factors=[discount_factors, np.asarray([0.7])], activation_functions=[\"softmax\", \"argmax\"], c=c)\n",
    "weights = res_best[\"weights\"][0,-75:]"
   ]
  },
  {
   "cell_type": "code",
   "execution_count": 66,
   "metadata": {},
   "outputs": [],
   "source": [
    "bma_mom_weights = pd.DataFrame(weights, columns=forecast_table.columns, index=np.arange(8, 74+9)).stack().reset_index()\n",
    "bma_mom_weights.columns = [\"PERIOD_ENUM\", \"FCT_SOURCE\", \"WEIGHT\"]"
   ]
  },
  {
   "cell_type": "code",
   "execution_count": 67,
   "metadata": {},
   "outputs": [],
   "source": [
    "bma_mom_weights_hist = filled_history.merge(bma_mom_weights, on=[\"PERIOD_ENUM\", \"FCT_SOURCE\"])"
   ]
  },
  {
   "cell_type": "code",
   "execution_count": 68,
   "metadata": {},
   "outputs": [],
   "source": [
    "bma_mom_weights_hist.loc[:, target_buckets] = (bma_mom_weights_hist.WEIGHT.values * bma_mom_weights_hist[target_buckets].T).T.to_numpy()"
   ]
  },
  {
   "cell_type": "code",
   "execution_count": 69,
   "metadata": {},
   "outputs": [],
   "source": [
    "realisations = filled_history[[\"TARGET_PERIOD\", \"CHANGE\"]].set_index(\"TARGET_PERIOD\", drop=True).copy().drop_duplicates()"
   ]
  },
  {
   "cell_type": "code",
   "execution_count": 70,
   "metadata": {},
   "outputs": [
    {
     "data": {
      "image/png": "[encoded data removed]",
      "text/plain": [
       "<Figure size 1800x576 with 2 Axes>"
      ]
     },
     "metadata": {},
     "output_type": "display_data"
    }
   ],
   "source": [
    "fig, ax = plt.subplots(figsize=(25,8))\n",
    "filled_history[\"LIK\"]  = filled_history[\"LIK\"].astype(\"float\")\n",
    "filled_history[\"CHANGE\"]  = filled_history[\"CHANGE\"].astype(\"float\")\n",
    "cmap = sns.color_palette(\"light:b\", as_cmap=True)\n",
    "df_bma_mom_prob = bma_mom_weights_hist.groupby(\"TARGET_PERIOD\").sum()[target_buckets]\n",
    "df_bma_mom_prob = df_bma_mom_prob.reindex(realisations.index).loc[realisations[8:].index]\n",
    "df_bma_mom_prob.columns = (np.array([-1] + buckets_from[1:]) + np.array(buckets_to[:-1]+[4.5])) * 0.5\n",
    "sns.heatmap(df_bma_mom_prob.T.iloc[::-1]/100, ax=ax, cmap=cmap,\n",
    "           linewidth=0.3, cbar_kws={\"shrink\": .8}, square=False, vmin=0, vmax=1)\n",
    "\n",
    "ax.set_yticks(np.arange(0,12))\n",
    "ax.plot(np.arange(0,75)+0.5, -(realisations.CHANGE.values[8:] - 4.5) * (12/6), c=\"tab:red\", lw=3)\n",
    "ax.set_yticklabels([Text(0, 0.5, ''),\n",
    " Text(0, 1, '4.0'),\n",
    " Text(0, 2.5, ''),\n",
    " Text(0, 3, '3.0'),\n",
    " Text(0, 4.5, ''),\n",
    " Text(0, 5, '2.0'),\n",
    " Text(0, 6.5, ''),\n",
    " Text(0, 7, '1.0'),\n",
    " Text(0, 8.5, ''),\n",
    " Text(0, 9, '0.0'),\n",
    " Text(0, 10.5, ''),\n",
    " Text(0, 11, '-1.0')])\n",
    "ax.set_ylabel(\"% YOY inflation change\")\n",
    "ax.set_xlabel(\"Target Period\")\n",
    "plt.show()"
   ]
  }
 ],
 "metadata": {
  "kernelspec": {
   "display_name": "Python 3 (ipykernel)",
   "language": "python",
   "name": "python3"
  },
  "language_info": {
   "codemirror_mode": {
    "name": "ipython",
    "version": 3
   },
   "file_extension": ".py",
   "mimetype": "text/x-python",
   "name": "python",
   "nbconvert_exporter": "python",
   "pygments_lexer": "ipython3",
   "version": "3.8.5"
  }
 },
 "nbformat": 4,
 "nbformat_minor": 4
}
