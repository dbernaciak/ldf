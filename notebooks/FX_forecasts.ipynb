{
 "cells": [
  {
   "cell_type": "code",
   "execution_count": 1,
   "id": "d75f00fe-16a5-496d-9dbe-e43f661f556f",
   "metadata": {},
   "outputs": [],
   "source": [
    "import sys; sys.path.insert(0, '..')\n",
    "import dill as pickle\n",
    "import numpy as np\n",
    "import pandas as pd\n",
    "import itertools\n",
    "from ldf.best_subset import best_n_avg\n",
    "from ldf.ldf import ldf\n",
    "from scipy.stats import norm, multivariate_normal\n",
    "import matplotlib.pyplot as plt\n",
    "import seaborn as sns\n",
    "from tqdm.auto import tqdm\n",
    "\n",
    "sns.set_style(\"whitegrid\")\n",
    "sns.set_context(\"paper\", rc={\"font.size\":8,\"axes.titlesize\":20,\"axes.labelsize\":20})\n",
    "plt.rc('legend',fontsize=16)\n",
    "SMALL_SIZE = 16\n",
    "MEDIUM_SIZE = 18\n",
    "BIGGER_SIZE = 20\n",
    "\n",
    "plt.rc('font', size=SMALL_SIZE)          # controls default text sizes\n",
    "plt.rc('axes', titlesize=SMALL_SIZE)     # fontsize of the axes title\n",
    "plt.rc('axes', labelsize=MEDIUM_SIZE)    # fontsize of the x and y labels\n",
    "plt.rc('xtick', labelsize=SMALL_SIZE)    # fontsize of the tick labels\n",
    "plt.rc('ytick', labelsize=SMALL_SIZE)    # fontsize of the tick labels\n",
    "plt.rc('legend', fontsize=BIGGER_SIZE)    # legend fontsize\n",
    "plt.rc('figure', titlesize=BIGGER_SIZE)  # fontsize of the figure title\n",
    "%matplotlib inline"
   ]
  },
  {
   "cell_type": "markdown",
   "id": "053904be-4239-4233-9cd4-2643834ee985",
   "metadata": {},
   "source": [
    "## All forecasts"
   ]
  },
  {
   "cell_type": "code",
   "execution_count": 64,
   "id": "94550ad1-fd10-4e69-955d-e8b960ba4ee8",
   "metadata": {},
   "outputs": [],
   "source": [
    "## select uip_l1_save file for small model pool and full_save for the large model pool\n",
    "log_lik = np.load(r\"..//data//FX//full_save_loglik.npz\")[\"x\"]"
   ]
  },
  {
   "cell_type": "code",
   "execution_count": 23,
   "id": "3e003887-3cc7-43db-8643-c3b687d4563f",
   "metadata": {},
   "outputs": [
    {
     "data": {
      "text/plain": [
       "20.816408091004128"
      ]
     },
     "execution_count": 23,
     "metadata": {},
     "output_type": "execute_result"
    }
   ],
   "source": [
    "np.log(np.exp(log_lik[:,120:]).mean(axis=0)).mean()"
   ]
  },
  {
   "cell_type": "code",
   "execution_count": 24,
   "id": "cc38e3df-258e-490c-891a-efe35ce6e844",
   "metadata": {},
   "outputs": [
    {
     "data": {
      "text/plain": [
       "5037.570758022999"
      ]
     },
     "execution_count": 24,
     "metadata": {},
     "output_type": "execute_result"
    }
   ],
   "source": [
    "np.log(np.exp(log_lik[:,120:]).mean(axis=0)).sum()"
   ]
  },
  {
   "cell_type": "markdown",
   "id": "d870a419-eab0-4ee2-a0eb-b7c1066fe20d",
   "metadata": {},
   "source": [
    "## LDF"
   ]
  },
  {
   "cell_type": "markdown",
   "id": "0c11c894-3cf0-4672-9357-d02a96586674",
   "metadata": {},
   "source": [
    "### Model averaging"
   ]
  },
  {
   "cell_type": "code",
   "execution_count": 25,
   "id": "8700ab42-2513-4ecb-a782-b9494e3518e5",
   "metadata": {},
   "outputs": [],
   "source": [
    "c= 10**(-20)\n",
    "discount_factors = np.array([1, 0.99, 0.95, 0.9, 0.8, 0.7, 0.6, 0.5, 0.4, 0.3, 0.2, 0.001]) # np.linspace(0.2, 1.0, 81) # "
   ]
  },
  {
   "cell_type": "markdown",
   "id": "4860e95b-2aa7-47b3-aa8b-90b9158c057d",
   "metadata": {},
   "source": [
    "### 2-level LDF(softmax, argmax)"
   ]
  },
  {
   "cell_type": "code",
   "execution_count": 26,
   "id": "b9047f4a-33c8-493c-b257-c914002a06af",
   "metadata": {},
   "outputs": [
    {
     "data": {
      "text/html": [
       "<style type=\"text/css\">\n",
       "</style>\n",
       "<table id=\"T_9e775_\">\n",
       "  <thead>\n",
       "    <tr>\n",
       "      <th class=\"blank level0\" >&nbsp;</th>\n",
       "      <th class=\"col_heading level0 col0\" >0</th>\n",
       "      <th class=\"col_heading level0 col1\" >1</th>\n",
       "      <th class=\"col_heading level0 col2\" >2</th>\n",
       "    </tr>\n",
       "  </thead>\n",
       "  <tbody>\n",
       "    <tr>\n",
       "      <th id=\"T_9e775_level0_row0\" class=\"row_heading level0 row0\" >0</th>\n",
       "      <td id=\"T_9e775_row0_col0\" class=\"data row0 col0\" >1.00</td>\n",
       "      <td id=\"T_9e775_row0_col1\" class=\"data row0 col1\" >22.17</td>\n",
       "      <td id=\"T_9e775_row0_col2\" class=\"data row0 col2\" >5364.58</td>\n",
       "    </tr>\n",
       "    <tr>\n",
       "      <th id=\"T_9e775_level0_row1\" class=\"row_heading level0 row1\" >1</th>\n",
       "      <td id=\"T_9e775_row1_col0\" class=\"data row1 col0\" >0.99</td>\n",
       "      <td id=\"T_9e775_row1_col1\" class=\"data row1 col1\" >22.20</td>\n",
       "      <td id=\"T_9e775_row1_col2\" class=\"data row1 col2\" >5371.55</td>\n",
       "    </tr>\n",
       "    <tr>\n",
       "      <th id=\"T_9e775_level0_row2\" class=\"row_heading level0 row2\" >2</th>\n",
       "      <td id=\"T_9e775_row2_col0\" class=\"data row2 col0\" >0.95</td>\n",
       "      <td id=\"T_9e775_row2_col1\" class=\"data row2 col1\" >22.22</td>\n",
       "      <td id=\"T_9e775_row2_col2\" class=\"data row2 col2\" >5377.08</td>\n",
       "    </tr>\n",
       "    <tr>\n",
       "      <th id=\"T_9e775_level0_row3\" class=\"row_heading level0 row3\" >3</th>\n",
       "      <td id=\"T_9e775_row3_col0\" class=\"data row3 col0\" >0.90</td>\n",
       "      <td id=\"T_9e775_row3_col1\" class=\"data row3 col1\" >22.24</td>\n",
       "      <td id=\"T_9e775_row3_col2\" class=\"data row3 col2\" >5381.59</td>\n",
       "    </tr>\n",
       "    <tr>\n",
       "      <th id=\"T_9e775_level0_row4\" class=\"row_heading level0 row4\" >4</th>\n",
       "      <td id=\"T_9e775_row4_col0\" class=\"data row4 col0\" >0.80</td>\n",
       "      <td id=\"T_9e775_row4_col1\" class=\"data row4 col1\" >22.27</td>\n",
       "      <td id=\"T_9e775_row4_col2\" class=\"data row4 col2\" >5389.48</td>\n",
       "    </tr>\n",
       "    <tr>\n",
       "      <th id=\"T_9e775_level0_row5\" class=\"row_heading level0 row5\" >5</th>\n",
       "      <td id=\"T_9e775_row5_col0\" class=\"data row5 col0\" >0.70</td>\n",
       "      <td id=\"T_9e775_row5_col1\" class=\"data row5 col1\" >22.32</td>\n",
       "      <td id=\"T_9e775_row5_col2\" class=\"data row5 col2\" >5400.33</td>\n",
       "    </tr>\n",
       "    <tr>\n",
       "      <th id=\"T_9e775_level0_row6\" class=\"row_heading level0 row6\" >6</th>\n",
       "      <td id=\"T_9e775_row6_col0\" class=\"data row6 col0\" >0.60</td>\n",
       "      <td id=\"T_9e775_row6_col1\" class=\"data row6 col1\" >22.29</td>\n",
       "      <td id=\"T_9e775_row6_col2\" class=\"data row6 col2\" >5393.53</td>\n",
       "    </tr>\n",
       "    <tr>\n",
       "      <th id=\"T_9e775_level0_row7\" class=\"row_heading level0 row7\" >7</th>\n",
       "      <td id=\"T_9e775_row7_col0\" class=\"data row7 col0\" >0.50</td>\n",
       "      <td id=\"T_9e775_row7_col1\" class=\"data row7 col1\" >22.33</td>\n",
       "      <td id=\"T_9e775_row7_col2\" class=\"data row7 col2\" >5404.64</td>\n",
       "    </tr>\n",
       "    <tr>\n",
       "      <th id=\"T_9e775_level0_row8\" class=\"row_heading level0 row8\" >8</th>\n",
       "      <td id=\"T_9e775_row8_col0\" class=\"data row8 col0\" >0.40</td>\n",
       "      <td id=\"T_9e775_row8_col1\" class=\"data row8 col1\" >22.30</td>\n",
       "      <td id=\"T_9e775_row8_col2\" class=\"data row8 col2\" >5397.81</td>\n",
       "    </tr>\n",
       "    <tr>\n",
       "      <th id=\"T_9e775_level0_row9\" class=\"row_heading level0 row9\" >9</th>\n",
       "      <td id=\"T_9e775_row9_col0\" class=\"data row9 col0\" >0.30</td>\n",
       "      <td id=\"T_9e775_row9_col1\" class=\"data row9 col1\" >22.28</td>\n",
       "      <td id=\"T_9e775_row9_col2\" class=\"data row9 col2\" >5392.61</td>\n",
       "    </tr>\n",
       "    <tr>\n",
       "      <th id=\"T_9e775_level0_row10\" class=\"row_heading level0 row10\" >10</th>\n",
       "      <td id=\"T_9e775_row10_col0\" class=\"data row10 col0\" >0.20</td>\n",
       "      <td id=\"T_9e775_row10_col1\" class=\"data row10 col1\" >22.26</td>\n",
       "      <td id=\"T_9e775_row10_col2\" class=\"data row10 col2\" >5386.80</td>\n",
       "    </tr>\n",
       "    <tr>\n",
       "      <th id=\"T_9e775_level0_row11\" class=\"row_heading level0 row11\" >11</th>\n",
       "      <td id=\"T_9e775_row11_col0\" class=\"data row11 col0\" >0.00</td>\n",
       "      <td id=\"T_9e775_row11_col1\" class=\"data row11 col1\" >22.23</td>\n",
       "      <td id=\"T_9e775_row11_col2\" class=\"data row11 col2\" >5378.97</td>\n",
       "    </tr>\n",
       "  </tbody>\n",
       "</table>\n"
      ],
      "text/plain": [
       "<pandas.io.formats.style.Styler at 0x290a03c8fa0>"
      ]
     },
     "execution_count": 26,
     "metadata": {},
     "output_type": "execute_result"
    }
   ],
   "source": [
    "res_ldf = ldf(log_lik.astype(float), levels=2, discount_factors=[discount_factors, discount_factors], activation_functions=[\"softmax\", \"argmax\"], c=c)\n",
    "ldfa_df = pd.DataFrame([discount_factors, res_ldf[\"logscores\"][:,-242:].mean(axis=1), res_ldf[\"logscores\"][:,-242:].sum(axis=1)]).T\n",
    "ldfa_df.style.format(\"{:.2f}\")"
   ]
  },
  {
   "cell_type": "markdown",
   "id": "b8f824ef-b291-4be8-a7a5-dbc4e422f0fc",
   "metadata": {},
   "source": [
    "### 2-level LDF(softmax, softmax)"
   ]
  },
  {
   "cell_type": "code",
   "execution_count": 27,
   "id": "07f30029-06bb-43cc-87dd-b3bc9d17f432",
   "metadata": {},
   "outputs": [
    {
     "data": {
      "text/html": [
       "<style type=\"text/css\">\n",
       "</style>\n",
       "<table id=\"T_e5333_\">\n",
       "  <thead>\n",
       "    <tr>\n",
       "      <th class=\"blank level0\" >&nbsp;</th>\n",
       "      <th class=\"col_heading level0 col0\" >0</th>\n",
       "      <th class=\"col_heading level0 col1\" >1</th>\n",
       "      <th class=\"col_heading level0 col2\" >2</th>\n",
       "    </tr>\n",
       "  </thead>\n",
       "  <tbody>\n",
       "    <tr>\n",
       "      <th id=\"T_e5333_level0_row0\" class=\"row_heading level0 row0\" >0</th>\n",
       "      <td id=\"T_e5333_row0_col0\" class=\"data row0 col0\" >1.00</td>\n",
       "      <td id=\"T_e5333_row0_col1\" class=\"data row0 col1\" >22.17</td>\n",
       "      <td id=\"T_e5333_row0_col2\" class=\"data row0 col2\" >5365.09</td>\n",
       "    </tr>\n",
       "    <tr>\n",
       "      <th id=\"T_e5333_level0_row1\" class=\"row_heading level0 row1\" >1</th>\n",
       "      <td id=\"T_e5333_row1_col0\" class=\"data row1 col0\" >0.99</td>\n",
       "      <td id=\"T_e5333_row1_col1\" class=\"data row1 col1\" >22.20</td>\n",
       "      <td id=\"T_e5333_row1_col2\" class=\"data row1 col2\" >5372.46</td>\n",
       "    </tr>\n",
       "    <tr>\n",
       "      <th id=\"T_e5333_level0_row2\" class=\"row_heading level0 row2\" >2</th>\n",
       "      <td id=\"T_e5333_row2_col0\" class=\"data row2 col0\" >0.95</td>\n",
       "      <td id=\"T_e5333_row2_col1\" class=\"data row2 col1\" >22.30</td>\n",
       "      <td id=\"T_e5333_row2_col2\" class=\"data row2 col2\" >5396.55</td>\n",
       "    </tr>\n",
       "    <tr>\n",
       "      <th id=\"T_e5333_level0_row3\" class=\"row_heading level0 row3\" >3</th>\n",
       "      <td id=\"T_e5333_row3_col0\" class=\"data row3 col0\" >0.90</td>\n",
       "      <td id=\"T_e5333_row3_col1\" class=\"data row3 col1\" >22.36</td>\n",
       "      <td id=\"T_e5333_row3_col2\" class=\"data row3 col2\" >5411.00</td>\n",
       "    </tr>\n",
       "    <tr>\n",
       "      <th id=\"T_e5333_level0_row4\" class=\"row_heading level0 row4\" >4</th>\n",
       "      <td id=\"T_e5333_row4_col0\" class=\"data row4 col0\" >0.80</td>\n",
       "      <td id=\"T_e5333_row4_col1\" class=\"data row4 col1\" >22.37</td>\n",
       "      <td id=\"T_e5333_row4_col2\" class=\"data row4 col2\" >5413.55</td>\n",
       "    </tr>\n",
       "    <tr>\n",
       "      <th id=\"T_e5333_level0_row5\" class=\"row_heading level0 row5\" >5</th>\n",
       "      <td id=\"T_e5333_row5_col0\" class=\"data row5 col0\" >0.70</td>\n",
       "      <td id=\"T_e5333_row5_col1\" class=\"data row5 col1\" >22.35</td>\n",
       "      <td id=\"T_e5333_row5_col2\" class=\"data row5 col2\" >5409.71</td>\n",
       "    </tr>\n",
       "    <tr>\n",
       "      <th id=\"T_e5333_level0_row6\" class=\"row_heading level0 row6\" >6</th>\n",
       "      <td id=\"T_e5333_row6_col0\" class=\"data row6 col0\" >0.60</td>\n",
       "      <td id=\"T_e5333_row6_col1\" class=\"data row6 col1\" >22.34</td>\n",
       "      <td id=\"T_e5333_row6_col2\" class=\"data row6 col2\" >5405.90</td>\n",
       "    </tr>\n",
       "    <tr>\n",
       "      <th id=\"T_e5333_level0_row7\" class=\"row_heading level0 row7\" >7</th>\n",
       "      <td id=\"T_e5333_row7_col0\" class=\"data row7 col0\" >0.50</td>\n",
       "      <td id=\"T_e5333_row7_col1\" class=\"data row7 col1\" >22.32</td>\n",
       "      <td id=\"T_e5333_row7_col2\" class=\"data row7 col2\" >5402.40</td>\n",
       "    </tr>\n",
       "    <tr>\n",
       "      <th id=\"T_e5333_level0_row8\" class=\"row_heading level0 row8\" >8</th>\n",
       "      <td id=\"T_e5333_row8_col0\" class=\"data row8 col0\" >0.40</td>\n",
       "      <td id=\"T_e5333_row8_col1\" class=\"data row8 col1\" >22.31</td>\n",
       "      <td id=\"T_e5333_row8_col2\" class=\"data row8 col2\" >5399.38</td>\n",
       "    </tr>\n",
       "    <tr>\n",
       "      <th id=\"T_e5333_level0_row9\" class=\"row_heading level0 row9\" >9</th>\n",
       "      <td id=\"T_e5333_row9_col0\" class=\"data row9 col0\" >0.30</td>\n",
       "      <td id=\"T_e5333_row9_col1\" class=\"data row9 col1\" >22.30</td>\n",
       "      <td id=\"T_e5333_row9_col2\" class=\"data row9 col2\" >5396.92</td>\n",
       "    </tr>\n",
       "    <tr>\n",
       "      <th id=\"T_e5333_level0_row10\" class=\"row_heading level0 row10\" >10</th>\n",
       "      <td id=\"T_e5333_row10_col0\" class=\"data row10 col0\" >0.20</td>\n",
       "      <td id=\"T_e5333_row10_col1\" class=\"data row10 col1\" >22.29</td>\n",
       "      <td id=\"T_e5333_row10_col2\" class=\"data row10 col2\" >5394.87</td>\n",
       "    </tr>\n",
       "    <tr>\n",
       "      <th id=\"T_e5333_level0_row11\" class=\"row_heading level0 row11\" >11</th>\n",
       "      <td id=\"T_e5333_row11_col0\" class=\"data row11 col0\" >0.00</td>\n",
       "      <td id=\"T_e5333_row11_col1\" class=\"data row11 col1\" >22.29</td>\n",
       "      <td id=\"T_e5333_row11_col2\" class=\"data row11 col2\" >5393.18</td>\n",
       "    </tr>\n",
       "  </tbody>\n",
       "</table>\n"
      ],
      "text/plain": [
       "<pandas.io.formats.style.Styler at 0x290eaf79bb0>"
      ]
     },
     "execution_count": 27,
     "metadata": {},
     "output_type": "execute_result"
    }
   ],
   "source": [
    "res_ldf = ldf(log_lik.astype(float), levels=2, discount_factors=[discount_factors, discount_factors], activation_functions=[\"softmax\", \"softmax\"], c=c)\n",
    "ldfs_df = pd.DataFrame([discount_factors, res_ldf[\"logscores\"][:,-242:].mean(axis=1), res_ldf[\"logscores\"][:,-242:].sum(axis=1)]).T\n",
    "ldfs_df.style.format(\"{:.2f}\")"
   ]
  },
  {
   "cell_type": "markdown",
   "id": "de92b06e-c4d0-49dd-a373-bb4dfe3a3288",
   "metadata": {},
   "source": [
    "### 1-level LDF(softmax) (DMA)"
   ]
  },
  {
   "cell_type": "code",
   "execution_count": 28,
   "id": "85b5bde2-7d29-42ea-9876-891858decc48",
   "metadata": {},
   "outputs": [
    {
     "data": {
      "text/html": [
       "<style type=\"text/css\">\n",
       "</style>\n",
       "<table id=\"T_c9ce7_\">\n",
       "  <thead>\n",
       "    <tr>\n",
       "      <th class=\"blank level0\" >&nbsp;</th>\n",
       "      <th class=\"col_heading level0 col0\" >0</th>\n",
       "      <th class=\"col_heading level0 col1\" >1</th>\n",
       "      <th class=\"col_heading level0 col2\" >2</th>\n",
       "    </tr>\n",
       "  </thead>\n",
       "  <tbody>\n",
       "    <tr>\n",
       "      <th id=\"T_c9ce7_level0_row0\" class=\"row_heading level0 row0\" >0</th>\n",
       "      <td id=\"T_c9ce7_row0_col0\" class=\"data row0 col0\" >1.00</td>\n",
       "      <td id=\"T_c9ce7_row0_col1\" class=\"data row0 col1\" >21.91</td>\n",
       "      <td id=\"T_c9ce7_row0_col2\" class=\"data row0 col2\" >5302.83</td>\n",
       "    </tr>\n",
       "    <tr>\n",
       "      <th id=\"T_c9ce7_level0_row1\" class=\"row_heading level0 row1\" >1</th>\n",
       "      <td id=\"T_c9ce7_row1_col0\" class=\"data row1 col0\" >0.99</td>\n",
       "      <td id=\"T_c9ce7_row1_col1\" class=\"data row1 col1\" >21.95</td>\n",
       "      <td id=\"T_c9ce7_row1_col2\" class=\"data row1 col2\" >5310.96</td>\n",
       "    </tr>\n",
       "    <tr>\n",
       "      <th id=\"T_c9ce7_level0_row2\" class=\"row_heading level0 row2\" >2</th>\n",
       "      <td id=\"T_c9ce7_row2_col0\" class=\"data row2 col0\" >0.95</td>\n",
       "      <td id=\"T_c9ce7_row2_col1\" class=\"data row2 col1\" >22.07</td>\n",
       "      <td id=\"T_c9ce7_row2_col2\" class=\"data row2 col2\" >5340.61</td>\n",
       "    </tr>\n",
       "    <tr>\n",
       "      <th id=\"T_c9ce7_level0_row3\" class=\"row_heading level0 row3\" >3</th>\n",
       "      <td id=\"T_c9ce7_row3_col0\" class=\"data row3 col0\" >0.90</td>\n",
       "      <td id=\"T_c9ce7_row3_col1\" class=\"data row3 col1\" >22.17</td>\n",
       "      <td id=\"T_c9ce7_row3_col2\" class=\"data row3 col2\" >5366.03</td>\n",
       "    </tr>\n",
       "    <tr>\n",
       "      <th id=\"T_c9ce7_level0_row4\" class=\"row_heading level0 row4\" >4</th>\n",
       "      <td id=\"T_c9ce7_row4_col0\" class=\"data row4 col0\" >0.80</td>\n",
       "      <td id=\"T_c9ce7_row4_col1\" class=\"data row4 col1\" >22.22</td>\n",
       "      <td id=\"T_c9ce7_row4_col2\" class=\"data row4 col2\" >5377.29</td>\n",
       "    </tr>\n",
       "    <tr>\n",
       "      <th id=\"T_c9ce7_level0_row5\" class=\"row_heading level0 row5\" >5</th>\n",
       "      <td id=\"T_c9ce7_row5_col0\" class=\"data row5 col0\" >0.70</td>\n",
       "      <td id=\"T_c9ce7_row5_col1\" class=\"data row5 col1\" >22.18</td>\n",
       "      <td id=\"T_c9ce7_row5_col2\" class=\"data row5 col2\" >5367.38</td>\n",
       "    </tr>\n",
       "    <tr>\n",
       "      <th id=\"T_c9ce7_level0_row6\" class=\"row_heading level0 row6\" >6</th>\n",
       "      <td id=\"T_c9ce7_row6_col0\" class=\"data row6 col0\" >0.60</td>\n",
       "      <td id=\"T_c9ce7_row6_col1\" class=\"data row6 col1\" >22.12</td>\n",
       "      <td id=\"T_c9ce7_row6_col2\" class=\"data row6 col2\" >5353.50</td>\n",
       "    </tr>\n",
       "    <tr>\n",
       "      <th id=\"T_c9ce7_level0_row7\" class=\"row_heading level0 row7\" >7</th>\n",
       "      <td id=\"T_c9ce7_row7_col0\" class=\"data row7 col0\" >0.50</td>\n",
       "      <td id=\"T_c9ce7_row7_col1\" class=\"data row7 col1\" >22.07</td>\n",
       "      <td id=\"T_c9ce7_row7_col2\" class=\"data row7 col2\" >5340.68</td>\n",
       "    </tr>\n",
       "    <tr>\n",
       "      <th id=\"T_c9ce7_level0_row8\" class=\"row_heading level0 row8\" >8</th>\n",
       "      <td id=\"T_c9ce7_row8_col0\" class=\"data row8 col0\" >0.40</td>\n",
       "      <td id=\"T_c9ce7_row8_col1\" class=\"data row8 col1\" >22.02</td>\n",
       "      <td id=\"T_c9ce7_row8_col2\" class=\"data row8 col2\" >5330.01</td>\n",
       "    </tr>\n",
       "    <tr>\n",
       "      <th id=\"T_c9ce7_level0_row9\" class=\"row_heading level0 row9\" >9</th>\n",
       "      <td id=\"T_c9ce7_row9_col0\" class=\"data row9 col0\" >0.30</td>\n",
       "      <td id=\"T_c9ce7_row9_col1\" class=\"data row9 col1\" >21.98</td>\n",
       "      <td id=\"T_c9ce7_row9_col2\" class=\"data row9 col2\" >5319.95</td>\n",
       "    </tr>\n",
       "    <tr>\n",
       "      <th id=\"T_c9ce7_level0_row10\" class=\"row_heading level0 row10\" >10</th>\n",
       "      <td id=\"T_c9ce7_row10_col0\" class=\"data row10 col0\" >0.20</td>\n",
       "      <td id=\"T_c9ce7_row10_col1\" class=\"data row10 col1\" >21.94</td>\n",
       "      <td id=\"T_c9ce7_row10_col2\" class=\"data row10 col2\" >5308.51</td>\n",
       "    </tr>\n",
       "    <tr>\n",
       "      <th id=\"T_c9ce7_level0_row11\" class=\"row_heading level0 row11\" >11</th>\n",
       "      <td id=\"T_c9ce7_row11_col0\" class=\"data row11 col0\" >0.00</td>\n",
       "      <td id=\"T_c9ce7_row11_col1\" class=\"data row11 col1\" >20.89</td>\n",
       "      <td id=\"T_c9ce7_row11_col2\" class=\"data row11 col2\" >5056.43</td>\n",
       "    </tr>\n",
       "  </tbody>\n",
       "</table>\n"
      ],
      "text/plain": [
       "<pandas.io.formats.style.Styler at 0x290eaff0a00>"
      ]
     },
     "execution_count": 28,
     "metadata": {},
     "output_type": "execute_result"
    }
   ],
   "source": [
    "res_dma = ldf(log_lik.astype(float), levels=1, discount_factors=[discount_factors], activation_functions=[\"softmax\"], c=c)\n",
    "res_dma_df = pd.DataFrame([discount_factors, res_dma[\"logscores\"][:,-242:].mean(axis=1), res_dma[\"logscores\"][:,-242:].sum(axis=1)]).T\n",
    "res_dma_df.style.format(\"{:.2f}\")"
   ]
  },
  {
   "cell_type": "code",
   "execution_count": 29,
   "id": "1f306789-5568-4cb1-bc9b-6d74e6be3a08",
   "metadata": {},
   "outputs": [
    {
     "data": {
      "image/png": "[encoded data removed]",
      "text/plain": [
       "<Figure size 432x432 with 1 Axes>"
      ]
     },
     "metadata": {
      "needs_background": "light"
     },
     "output_type": "display_data"
    }
   ],
   "source": [
    "fig, ax = plt.subplots(1, 1, figsize=(6,6))\n",
    "ax.scatter(ldfs_df[0].to_list()[:-1], ldfs_df[1].to_list()[:-1], marker='o', color='yellowgreen', label=\"$LDF_{s, s}^2$\", s=40, alpha=0.8)\n",
    "ax.scatter(ldfa_df[0].to_list()[:-1], ldfa_df[1].to_list()[:-1], marker='o', color='tab:blue', label=\"$LDF_{s, a}^2$\", s=40, alpha=0.8)\n",
    "ax.scatter(res_dma_df[0].to_list()[:-1], res_dma_df[1].to_list()[:-1], marker='o', color='tab:red', label=\"DMA\", s=40, alpha=0.8)\n",
    "ax.set_ylabel(r\"MLS\")\n",
    "ax.set_ylim(21.5, 22.5)\n",
    "ax.legend(loc=\"lower left\");"
   ]
  },
  {
   "cell_type": "markdown",
   "id": "87c3bd51-94ba-4531-a9b0-6d6b27cdebe9",
   "metadata": {},
   "source": [
    "### Model selection"
   ]
  },
  {
   "cell_type": "markdown",
   "id": "d653991b-3516-424c-8f47-f5c0931edca3",
   "metadata": {},
   "source": [
    "### 2-level LDF(argmax, argmax)"
   ]
  },
  {
   "cell_type": "code",
   "execution_count": 30,
   "id": "670850cf-1396-4862-b198-9bf8db474886",
   "metadata": {},
   "outputs": [
    {
     "data": {
      "text/html": [
       "<style type=\"text/css\">\n",
       "</style>\n",
       "<table id=\"T_4c6de_\">\n",
       "  <thead>\n",
       "    <tr>\n",
       "      <th class=\"blank level0\" >&nbsp;</th>\n",
       "      <th class=\"col_heading level0 col0\" >0</th>\n",
       "      <th class=\"col_heading level0 col1\" >1</th>\n",
       "      <th class=\"col_heading level0 col2\" >2</th>\n",
       "    </tr>\n",
       "  </thead>\n",
       "  <tbody>\n",
       "    <tr>\n",
       "      <th id=\"T_4c6de_level0_row0\" class=\"row_heading level0 row0\" >0</th>\n",
       "      <td id=\"T_4c6de_row0_col0\" class=\"data row0 col0\" >1.00</td>\n",
       "      <td id=\"T_4c6de_row0_col1\" class=\"data row0 col1\" >21.75</td>\n",
       "      <td id=\"T_4c6de_row0_col2\" class=\"data row0 col2\" >5263.83</td>\n",
       "    </tr>\n",
       "    <tr>\n",
       "      <th id=\"T_4c6de_level0_row1\" class=\"row_heading level0 row1\" >1</th>\n",
       "      <td id=\"T_4c6de_row1_col0\" class=\"data row1 col0\" >0.99</td>\n",
       "      <td id=\"T_4c6de_row1_col1\" class=\"data row1 col1\" >21.75</td>\n",
       "      <td id=\"T_4c6de_row1_col2\" class=\"data row1 col2\" >5264.31</td>\n",
       "    </tr>\n",
       "    <tr>\n",
       "      <th id=\"T_4c6de_level0_row2\" class=\"row_heading level0 row2\" >2</th>\n",
       "      <td id=\"T_4c6de_row2_col0\" class=\"data row2 col0\" >0.95</td>\n",
       "      <td id=\"T_4c6de_row2_col1\" class=\"data row2 col1\" >21.78</td>\n",
       "      <td id=\"T_4c6de_row2_col2\" class=\"data row2 col2\" >5270.54</td>\n",
       "    </tr>\n",
       "    <tr>\n",
       "      <th id=\"T_4c6de_level0_row3\" class=\"row_heading level0 row3\" >3</th>\n",
       "      <td id=\"T_4c6de_row3_col0\" class=\"data row3 col0\" >0.90</td>\n",
       "      <td id=\"T_4c6de_row3_col1\" class=\"data row3 col1\" >21.80</td>\n",
       "      <td id=\"T_4c6de_row3_col2\" class=\"data row3 col2\" >5275.55</td>\n",
       "    </tr>\n",
       "    <tr>\n",
       "      <th id=\"T_4c6de_level0_row4\" class=\"row_heading level0 row4\" >4</th>\n",
       "      <td id=\"T_4c6de_row4_col0\" class=\"data row4 col0\" >0.80</td>\n",
       "      <td id=\"T_4c6de_row4_col1\" class=\"data row4 col1\" >21.75</td>\n",
       "      <td id=\"T_4c6de_row4_col2\" class=\"data row4 col2\" >5263.94</td>\n",
       "    </tr>\n",
       "    <tr>\n",
       "      <th id=\"T_4c6de_level0_row5\" class=\"row_heading level0 row5\" >5</th>\n",
       "      <td id=\"T_4c6de_row5_col0\" class=\"data row5 col0\" >0.70</td>\n",
       "      <td id=\"T_4c6de_row5_col1\" class=\"data row5 col1\" >21.73</td>\n",
       "      <td id=\"T_4c6de_row5_col2\" class=\"data row5 col2\" >5259.77</td>\n",
       "    </tr>\n",
       "    <tr>\n",
       "      <th id=\"T_4c6de_level0_row6\" class=\"row_heading level0 row6\" >6</th>\n",
       "      <td id=\"T_4c6de_row6_col0\" class=\"data row6 col0\" >0.60</td>\n",
       "      <td id=\"T_4c6de_row6_col1\" class=\"data row6 col1\" >21.69</td>\n",
       "      <td id=\"T_4c6de_row6_col2\" class=\"data row6 col2\" >5249.46</td>\n",
       "    </tr>\n",
       "    <tr>\n",
       "      <th id=\"T_4c6de_level0_row7\" class=\"row_heading level0 row7\" >7</th>\n",
       "      <td id=\"T_4c6de_row7_col0\" class=\"data row7 col0\" >0.50</td>\n",
       "      <td id=\"T_4c6de_row7_col1\" class=\"data row7 col1\" >21.68</td>\n",
       "      <td id=\"T_4c6de_row7_col2\" class=\"data row7 col2\" >5247.40</td>\n",
       "    </tr>\n",
       "    <tr>\n",
       "      <th id=\"T_4c6de_level0_row8\" class=\"row_heading level0 row8\" >8</th>\n",
       "      <td id=\"T_4c6de_row8_col0\" class=\"data row8 col0\" >0.40</td>\n",
       "      <td id=\"T_4c6de_row8_col1\" class=\"data row8 col1\" >21.67</td>\n",
       "      <td id=\"T_4c6de_row8_col2\" class=\"data row8 col2\" >5243.91</td>\n",
       "    </tr>\n",
       "    <tr>\n",
       "      <th id=\"T_4c6de_level0_row9\" class=\"row_heading level0 row9\" >9</th>\n",
       "      <td id=\"T_4c6de_row9_col0\" class=\"data row9 col0\" >0.30</td>\n",
       "      <td id=\"T_4c6de_row9_col1\" class=\"data row9 col1\" >21.69</td>\n",
       "      <td id=\"T_4c6de_row9_col2\" class=\"data row9 col2\" >5249.39</td>\n",
       "    </tr>\n",
       "    <tr>\n",
       "      <th id=\"T_4c6de_level0_row10\" class=\"row_heading level0 row10\" >10</th>\n",
       "      <td id=\"T_4c6de_row10_col0\" class=\"data row10 col0\" >0.20</td>\n",
       "      <td id=\"T_4c6de_row10_col1\" class=\"data row10 col1\" >21.70</td>\n",
       "      <td id=\"T_4c6de_row10_col2\" class=\"data row10 col2\" >5250.30</td>\n",
       "    </tr>\n",
       "    <tr>\n",
       "      <th id=\"T_4c6de_level0_row11\" class=\"row_heading level0 row11\" >11</th>\n",
       "      <td id=\"T_4c6de_row11_col0\" class=\"data row11 col0\" >0.00</td>\n",
       "      <td id=\"T_4c6de_row11_col1\" class=\"data row11 col1\" >21.69</td>\n",
       "      <td id=\"T_4c6de_row11_col2\" class=\"data row11 col2\" >5248.36</td>\n",
       "    </tr>\n",
       "  </tbody>\n",
       "</table>\n"
      ],
      "text/plain": [
       "<pandas.io.formats.style.Styler at 0x290a933d070>"
      ]
     },
     "execution_count": 30,
     "metadata": {},
     "output_type": "execute_result"
    }
   ],
   "source": [
    "res_ldf = ldf(log_lik.astype(float), levels=2, discount_factors=[discount_factors, discount_factors], activation_functions=[\"argmax\", \"argmax\"], c=c)\n",
    "ldfa_df = pd.DataFrame([discount_factors, res_ldf[\"logscores\"][:,-242:].mean(axis=1), res_ldf[\"logscores\"][:,-242:].sum(axis=1)]).T\n",
    "ldfa_df.style.format(\"{:.2f}\")"
   ]
  },
  {
   "cell_type": "markdown",
   "id": "3d18426a-564f-4dce-8555-cb4a9f949396",
   "metadata": {},
   "source": [
    "### 2-level LDF(argmax, softmax)"
   ]
  },
  {
   "cell_type": "code",
   "execution_count": 31,
   "id": "bdcb99b2-4a7a-4101-98b0-b4a09d0fd3b9",
   "metadata": {},
   "outputs": [
    {
     "data": {
      "text/html": [
       "<style type=\"text/css\">\n",
       "</style>\n",
       "<table id=\"T_c7557_\">\n",
       "  <thead>\n",
       "    <tr>\n",
       "      <th class=\"blank level0\" >&nbsp;</th>\n",
       "      <th class=\"col_heading level0 col0\" >0</th>\n",
       "      <th class=\"col_heading level0 col1\" >1</th>\n",
       "      <th class=\"col_heading level0 col2\" >2</th>\n",
       "    </tr>\n",
       "  </thead>\n",
       "  <tbody>\n",
       "    <tr>\n",
       "      <th id=\"T_c7557_level0_row0\" class=\"row_heading level0 row0\" >0</th>\n",
       "      <td id=\"T_c7557_row0_col0\" class=\"data row0 col0\" >1.00</td>\n",
       "      <td id=\"T_c7557_row0_col1\" class=\"data row0 col1\" >21.77</td>\n",
       "      <td id=\"T_c7557_row0_col2\" class=\"data row0 col2\" >5268.73</td>\n",
       "    </tr>\n",
       "    <tr>\n",
       "      <th id=\"T_c7557_level0_row1\" class=\"row_heading level0 row1\" >1</th>\n",
       "      <td id=\"T_c7557_row1_col0\" class=\"data row1 col0\" >0.99</td>\n",
       "      <td id=\"T_c7557_row1_col1\" class=\"data row1 col1\" >21.84</td>\n",
       "      <td id=\"T_c7557_row1_col2\" class=\"data row1 col2\" >5285.03</td>\n",
       "    </tr>\n",
       "    <tr>\n",
       "      <th id=\"T_c7557_level0_row2\" class=\"row_heading level0 row2\" >2</th>\n",
       "      <td id=\"T_c7557_row2_col0\" class=\"data row2 col0\" >0.95</td>\n",
       "      <td id=\"T_c7557_row2_col1\" class=\"data row2 col1\" >21.98</td>\n",
       "      <td id=\"T_c7557_row2_col2\" class=\"data row2 col2\" >5319.99</td>\n",
       "    </tr>\n",
       "    <tr>\n",
       "      <th id=\"T_c7557_level0_row3\" class=\"row_heading level0 row3\" >3</th>\n",
       "      <td id=\"T_c7557_row3_col0\" class=\"data row3 col0\" >0.90</td>\n",
       "      <td id=\"T_c7557_row3_col1\" class=\"data row3 col1\" >22.03</td>\n",
       "      <td id=\"T_c7557_row3_col2\" class=\"data row3 col2\" >5330.19</td>\n",
       "    </tr>\n",
       "    <tr>\n",
       "      <th id=\"T_c7557_level0_row4\" class=\"row_heading level0 row4\" >4</th>\n",
       "      <td id=\"T_c7557_row4_col0\" class=\"data row4 col0\" >0.80</td>\n",
       "      <td id=\"T_c7557_row4_col1\" class=\"data row4 col1\" >22.04</td>\n",
       "      <td id=\"T_c7557_row4_col2\" class=\"data row4 col2\" >5332.49</td>\n",
       "    </tr>\n",
       "    <tr>\n",
       "      <th id=\"T_c7557_level0_row5\" class=\"row_heading level0 row5\" >5</th>\n",
       "      <td id=\"T_c7557_row5_col0\" class=\"data row5 col0\" >0.70</td>\n",
       "      <td id=\"T_c7557_row5_col1\" class=\"data row5 col1\" >22.03</td>\n",
       "      <td id=\"T_c7557_row5_col2\" class=\"data row5 col2\" >5331.62</td>\n",
       "    </tr>\n",
       "    <tr>\n",
       "      <th id=\"T_c7557_level0_row6\" class=\"row_heading level0 row6\" >6</th>\n",
       "      <td id=\"T_c7557_row6_col0\" class=\"data row6 col0\" >0.60</td>\n",
       "      <td id=\"T_c7557_row6_col1\" class=\"data row6 col1\" >22.03</td>\n",
       "      <td id=\"T_c7557_row6_col2\" class=\"data row6 col2\" >5330.61</td>\n",
       "    </tr>\n",
       "    <tr>\n",
       "      <th id=\"T_c7557_level0_row7\" class=\"row_heading level0 row7\" >7</th>\n",
       "      <td id=\"T_c7557_row7_col0\" class=\"data row7 col0\" >0.50</td>\n",
       "      <td id=\"T_c7557_row7_col1\" class=\"data row7 col1\" >22.03</td>\n",
       "      <td id=\"T_c7557_row7_col2\" class=\"data row7 col2\" >5330.21</td>\n",
       "    </tr>\n",
       "    <tr>\n",
       "      <th id=\"T_c7557_level0_row8\" class=\"row_heading level0 row8\" >8</th>\n",
       "      <td id=\"T_c7557_row8_col0\" class=\"data row8 col0\" >0.40</td>\n",
       "      <td id=\"T_c7557_row8_col1\" class=\"data row8 col1\" >22.03</td>\n",
       "      <td id=\"T_c7557_row8_col2\" class=\"data row8 col2\" >5330.32</td>\n",
       "    </tr>\n",
       "    <tr>\n",
       "      <th id=\"T_c7557_level0_row9\" class=\"row_heading level0 row9\" >9</th>\n",
       "      <td id=\"T_c7557_row9_col0\" class=\"data row9 col0\" >0.30</td>\n",
       "      <td id=\"T_c7557_row9_col1\" class=\"data row9 col1\" >22.03</td>\n",
       "      <td id=\"T_c7557_row9_col2\" class=\"data row9 col2\" >5330.70</td>\n",
       "    </tr>\n",
       "    <tr>\n",
       "      <th id=\"T_c7557_level0_row10\" class=\"row_heading level0 row10\" >10</th>\n",
       "      <td id=\"T_c7557_row10_col0\" class=\"data row10 col0\" >0.20</td>\n",
       "      <td id=\"T_c7557_row10_col1\" class=\"data row10 col1\" >22.03</td>\n",
       "      <td id=\"T_c7557_row10_col2\" class=\"data row10 col2\" >5331.20</td>\n",
       "    </tr>\n",
       "    <tr>\n",
       "      <th id=\"T_c7557_level0_row11\" class=\"row_heading level0 row11\" >11</th>\n",
       "      <td id=\"T_c7557_row11_col0\" class=\"data row11 col0\" >0.00</td>\n",
       "      <td id=\"T_c7557_row11_col1\" class=\"data row11 col1\" >22.03</td>\n",
       "      <td id=\"T_c7557_row11_col2\" class=\"data row11 col2\" >5332.39</td>\n",
       "    </tr>\n",
       "  </tbody>\n",
       "</table>\n"
      ],
      "text/plain": [
       "<pandas.io.formats.style.Styler at 0x290a93255e0>"
      ]
     },
     "execution_count": 31,
     "metadata": {},
     "output_type": "execute_result"
    }
   ],
   "source": [
    "res_ldf = ldf(log_lik.astype(float), levels=2, discount_factors=[discount_factors, discount_factors], activation_functions=[\"argmax\", \"softmax\"], c=c)\n",
    "ldfs_df = pd.DataFrame([discount_factors, res_ldf[\"logscores\"][:,-242:].mean(axis=1), res_ldf[\"logscores\"][:,-242:].sum(axis=1)]).T\n",
    "ldfs_df.style.format(\"{:.2f}\")"
   ]
  },
  {
   "cell_type": "markdown",
   "id": "dd9cc103-0b5f-4662-9d0f-6b0b1145b56d",
   "metadata": {},
   "source": [
    "### 1-level LDF(argmax) (DML)"
   ]
  },
  {
   "cell_type": "code",
   "execution_count": 32,
   "id": "0c5e6da0-5675-478d-b119-a1e1d15d95fe",
   "metadata": {},
   "outputs": [
    {
     "data": {
      "text/html": [
       "<style type=\"text/css\">\n",
       "</style>\n",
       "<table id=\"T_56e09_\">\n",
       "  <thead>\n",
       "    <tr>\n",
       "      <th class=\"blank level0\" >&nbsp;</th>\n",
       "      <th class=\"col_heading level0 col0\" >0</th>\n",
       "      <th class=\"col_heading level0 col1\" >1</th>\n",
       "      <th class=\"col_heading level0 col2\" >2</th>\n",
       "    </tr>\n",
       "  </thead>\n",
       "  <tbody>\n",
       "    <tr>\n",
       "      <th id=\"T_56e09_level0_row0\" class=\"row_heading level0 row0\" >0</th>\n",
       "      <td id=\"T_56e09_row0_col0\" class=\"data row0 col0\" >1.00</td>\n",
       "      <td id=\"T_56e09_row0_col1\" class=\"data row0 col1\" >21.51</td>\n",
       "      <td id=\"T_56e09_row0_col2\" class=\"data row0 col2\" >5206.41</td>\n",
       "    </tr>\n",
       "    <tr>\n",
       "      <th id=\"T_56e09_level0_row1\" class=\"row_heading level0 row1\" >1</th>\n",
       "      <td id=\"T_56e09_row1_col0\" class=\"data row1 col0\" >0.99</td>\n",
       "      <td id=\"T_56e09_row1_col1\" class=\"data row1 col1\" >21.54</td>\n",
       "      <td id=\"T_56e09_row1_col2\" class=\"data row1 col2\" >5213.80</td>\n",
       "    </tr>\n",
       "    <tr>\n",
       "      <th id=\"T_56e09_level0_row2\" class=\"row_heading level0 row2\" >2</th>\n",
       "      <td id=\"T_56e09_row2_col0\" class=\"data row2 col0\" >0.95</td>\n",
       "      <td id=\"T_56e09_row2_col1\" class=\"data row2 col1\" >21.85</td>\n",
       "      <td id=\"T_56e09_row2_col2\" class=\"data row2 col2\" >5287.76</td>\n",
       "    </tr>\n",
       "    <tr>\n",
       "      <th id=\"T_56e09_level0_row3\" class=\"row_heading level0 row3\" >3</th>\n",
       "      <td id=\"T_56e09_row3_col0\" class=\"data row3 col0\" >0.90</td>\n",
       "      <td id=\"T_56e09_row3_col1\" class=\"data row3 col1\" >21.81</td>\n",
       "      <td id=\"T_56e09_row3_col2\" class=\"data row3 col2\" >5277.69</td>\n",
       "    </tr>\n",
       "    <tr>\n",
       "      <th id=\"T_56e09_level0_row4\" class=\"row_heading level0 row4\" >4</th>\n",
       "      <td id=\"T_56e09_row4_col0\" class=\"data row4 col0\" >0.80</td>\n",
       "      <td id=\"T_56e09_row4_col1\" class=\"data row4 col1\" >21.78</td>\n",
       "      <td id=\"T_56e09_row4_col2\" class=\"data row4 col2\" >5269.78</td>\n",
       "    </tr>\n",
       "    <tr>\n",
       "      <th id=\"T_56e09_level0_row5\" class=\"row_heading level0 row5\" >5</th>\n",
       "      <td id=\"T_56e09_row5_col0\" class=\"data row5 col0\" >0.70</td>\n",
       "      <td id=\"T_56e09_row5_col1\" class=\"data row5 col1\" >21.77</td>\n",
       "      <td id=\"T_56e09_row5_col2\" class=\"data row5 col2\" >5268.73</td>\n",
       "    </tr>\n",
       "    <tr>\n",
       "      <th id=\"T_56e09_level0_row6\" class=\"row_heading level0 row6\" >6</th>\n",
       "      <td id=\"T_56e09_row6_col0\" class=\"data row6 col0\" >0.60</td>\n",
       "      <td id=\"T_56e09_row6_col1\" class=\"data row6 col1\" >21.75</td>\n",
       "      <td id=\"T_56e09_row6_col2\" class=\"data row6 col2\" >5264.34</td>\n",
       "    </tr>\n",
       "    <tr>\n",
       "      <th id=\"T_56e09_level0_row7\" class=\"row_heading level0 row7\" >7</th>\n",
       "      <td id=\"T_56e09_row7_col0\" class=\"data row7 col0\" >0.50</td>\n",
       "      <td id=\"T_56e09_row7_col1\" class=\"data row7 col1\" >21.80</td>\n",
       "      <td id=\"T_56e09_row7_col2\" class=\"data row7 col2\" >5274.77</td>\n",
       "    </tr>\n",
       "    <tr>\n",
       "      <th id=\"T_56e09_level0_row8\" class=\"row_heading level0 row8\" >8</th>\n",
       "      <td id=\"T_56e09_row8_col0\" class=\"data row8 col0\" >0.40</td>\n",
       "      <td id=\"T_56e09_row8_col1\" class=\"data row8 col1\" >21.78</td>\n",
       "      <td id=\"T_56e09_row8_col2\" class=\"data row8 col2\" >5270.94</td>\n",
       "    </tr>\n",
       "    <tr>\n",
       "      <th id=\"T_56e09_level0_row9\" class=\"row_heading level0 row9\" >9</th>\n",
       "      <td id=\"T_56e09_row9_col0\" class=\"data row9 col0\" >0.30</td>\n",
       "      <td id=\"T_56e09_row9_col1\" class=\"data row9 col1\" >21.81</td>\n",
       "      <td id=\"T_56e09_row9_col2\" class=\"data row9 col2\" >5277.40</td>\n",
       "    </tr>\n",
       "    <tr>\n",
       "      <th id=\"T_56e09_level0_row10\" class=\"row_heading level0 row10\" >10</th>\n",
       "      <td id=\"T_56e09_row10_col0\" class=\"data row10 col0\" >0.20</td>\n",
       "      <td id=\"T_56e09_row10_col1\" class=\"data row10 col1\" >21.73</td>\n",
       "      <td id=\"T_56e09_row10_col2\" class=\"data row10 col2\" >5258.04</td>\n",
       "    </tr>\n",
       "    <tr>\n",
       "      <th id=\"T_56e09_level0_row11\" class=\"row_heading level0 row11\" >11</th>\n",
       "      <td id=\"T_56e09_row11_col0\" class=\"data row11 col0\" >0.00</td>\n",
       "      <td id=\"T_56e09_row11_col1\" class=\"data row11 col1\" >21.62</td>\n",
       "      <td id=\"T_56e09_row11_col2\" class=\"data row11 col2\" >5232.53</td>\n",
       "    </tr>\n",
       "  </tbody>\n",
       "</table>\n"
      ],
      "text/plain": [
       "<pandas.io.formats.style.Styler at 0x290a80d00a0>"
      ]
     },
     "execution_count": 32,
     "metadata": {},
     "output_type": "execute_result"
    }
   ],
   "source": [
    "res_dml = ldf(log_lik.astype(float), levels=1, discount_factors=[discount_factors], activation_functions=[\"argmax\"], c=c)\n",
    "res_dml_df = pd.DataFrame([discount_factors, res_dml[\"logscores\"][:,-242:].mean(axis=1), res_dml[\"logscores\"][:,-242:].sum(axis=1)]).T\n",
    "res_dml_df.style.format(\"{:.2f}\")"
   ]
  },
  {
   "cell_type": "code",
   "execution_count": 33,
   "id": "3c349e09-46ae-42b4-ab95-1f7a31f9c71a",
   "metadata": {},
   "outputs": [
    {
     "data": {
      "image/png": "[encoded data removed]",
      "text/plain": [
       "<Figure size 432x432 with 1 Axes>"
      ]
     },
     "metadata": {
      "needs_background": "light"
     },
     "output_type": "display_data"
    }
   ],
   "source": [
    "fig, ax = plt.subplots(1, 1, figsize=(6,6))\n",
    "ax.scatter(ldfs_df[0].to_list()[:-1], ldfs_df[1].to_list()[:-1], marker='o', color='yellowgreen', label=\"$LDF_{a, s}^2$\", s=40, alpha=0.8)\n",
    "ax.scatter(ldfa_df[0].to_list()[:-1], ldfa_df[1].to_list()[:-1], marker='o', color='tab:blue', label=\"$LDF_{a, a}^2$\", s=40, alpha=0.8)\n",
    "ax.scatter(res_dml_df[0].to_list()[:-1], res_dml_df[1].to_list()[:-1], marker='o', color='tab:red', label=\"$LDF_{a}^1$\", s=40, alpha=0.8)\n",
    "ax.set_ylabel(r\"MLS\")\n",
    "ax.set_ylim(21.5, 22.5)\n",
    "ax.legend(loc=\"lower left\");"
   ]
  },
  {
   "cell_type": "markdown",
   "id": "b191327b-f08f-44ed-a370-15f95ab40ee2",
   "metadata": {},
   "source": [
    "## BPS"
   ]
  },
  {
   "cell_type": "code",
   "execution_count": 34,
   "id": "16b25ca4-0690-4f07-ac71-9126949c1d58",
   "metadata": {},
   "outputs": [],
   "source": [
    "bps_lik = np.load(r\"..//data//BPS//loglik_fx_5000n.npy\") #loglik_fx_5000n _95beta_delta"
   ]
  },
  {
   "cell_type": "code",
   "execution_count": 39,
   "id": "5c482ace-4ad3-4acd-acb7-bc57676548b3",
   "metadata": {},
   "outputs": [
    {
     "data": {
      "text/plain": [
       "21.601505312629726"
      ]
     },
     "execution_count": 39,
     "metadata": {},
     "output_type": "execute_result"
    }
   ],
   "source": [
    "np.log(bps_lik.mean(axis=1)).mean()"
   ]
  },
  {
   "cell_type": "code",
   "execution_count": 40,
   "id": "230146b7-888f-48c4-92d6-118df60c8ba5",
   "metadata": {},
   "outputs": [
    {
     "data": {
      "text/plain": [
       "5227.564285656394"
      ]
     },
     "execution_count": 40,
     "metadata": {},
     "output_type": "execute_result"
    }
   ],
   "source": [
    "np.log(bps_lik.mean(axis=1)).sum()"
   ]
  },
  {
   "cell_type": "code",
   "execution_count": 41,
   "id": "5ea2f0c1-3589-4bb8-893c-a91fb1f7979d",
   "metadata": {},
   "outputs": [],
   "source": [
    "y_ret = pd.read_excel(r\"..//data//FX//Y.xlsx\")"
   ]
  },
  {
   "cell_type": "markdown",
   "id": "67f2e36d-a50b-4edb-ba75-4f2a32e71a3d",
   "metadata": {},
   "source": [
    "## 2-level LDS vs BPS for a single currency pair"
   ]
  },
  {
   "cell_type": "code",
   "execution_count": 55,
   "id": "c7a88909-96df-45cd-99e7-d851aff86f51",
   "metadata": {},
   "outputs": [],
   "source": [
    "log_lik = np.load(r\"D:\\dev\\ldf\\data\\FX\\uip_l1_save_loglik.npz\")[\"x\"]\n",
    "means = np.load(r\"D:\\dev\\ldf\\data\\FX\\uip_l1_save_means.npz\")[\"x\"]\n",
    "covariance= np.load(r\"D:\\dev\\ldf\\data\\FX\\uip_l1_save_covariance.npz\")[\"x\"]"
   ]
  },
  {
   "cell_type": "code",
   "execution_count": 56,
   "id": "41798688-8285-4311-8ce5-c40e13ff2a17",
   "metadata": {},
   "outputs": [
    {
     "data": {
      "text/html": [
       "<style type=\"text/css\">\n",
       "</style>\n",
       "<table id=\"T_513a8_\">\n",
       "  <thead>\n",
       "    <tr>\n",
       "      <th class=\"blank level0\" >&nbsp;</th>\n",
       "      <th class=\"col_heading level0 col0\" >0</th>\n",
       "      <th class=\"col_heading level0 col1\" >1</th>\n",
       "      <th class=\"col_heading level0 col2\" >2</th>\n",
       "    </tr>\n",
       "  </thead>\n",
       "  <tbody>\n",
       "    <tr>\n",
       "      <th id=\"T_513a8_level0_row0\" class=\"row_heading level0 row0\" >0</th>\n",
       "      <td id=\"T_513a8_row0_col0\" class=\"data row0 col0\" >1.00</td>\n",
       "      <td id=\"T_513a8_row0_col1\" class=\"data row0 col1\" >22.04</td>\n",
       "      <td id=\"T_513a8_row0_col2\" class=\"data row0 col2\" >5334.40</td>\n",
       "    </tr>\n",
       "    <tr>\n",
       "      <th id=\"T_513a8_level0_row1\" class=\"row_heading level0 row1\" >1</th>\n",
       "      <td id=\"T_513a8_row1_col0\" class=\"data row1 col0\" >0.99</td>\n",
       "      <td id=\"T_513a8_row1_col1\" class=\"data row1 col1\" >22.08</td>\n",
       "      <td id=\"T_513a8_row1_col2\" class=\"data row1 col2\" >5342.20</td>\n",
       "    </tr>\n",
       "    <tr>\n",
       "      <th id=\"T_513a8_level0_row2\" class=\"row_heading level0 row2\" >2</th>\n",
       "      <td id=\"T_513a8_row2_col0\" class=\"data row2 col0\" >0.95</td>\n",
       "      <td id=\"T_513a8_row2_col1\" class=\"data row2 col1\" >22.13</td>\n",
       "      <td id=\"T_513a8_row2_col2\" class=\"data row2 col2\" >5355.42</td>\n",
       "    </tr>\n",
       "    <tr>\n",
       "      <th id=\"T_513a8_level0_row3\" class=\"row_heading level0 row3\" >3</th>\n",
       "      <td id=\"T_513a8_row3_col0\" class=\"data row3 col0\" >0.90</td>\n",
       "      <td id=\"T_513a8_row3_col1\" class=\"data row3 col1\" >22.16</td>\n",
       "      <td id=\"T_513a8_row3_col2\" class=\"data row3 col2\" >5362.06</td>\n",
       "    </tr>\n",
       "    <tr>\n",
       "      <th id=\"T_513a8_level0_row4\" class=\"row_heading level0 row4\" >4</th>\n",
       "      <td id=\"T_513a8_row4_col0\" class=\"data row4 col0\" >0.80</td>\n",
       "      <td id=\"T_513a8_row4_col1\" class=\"data row4 col1\" >22.15</td>\n",
       "      <td id=\"T_513a8_row4_col2\" class=\"data row4 col2\" >5359.58</td>\n",
       "    </tr>\n",
       "    <tr>\n",
       "      <th id=\"T_513a8_level0_row5\" class=\"row_heading level0 row5\" >5</th>\n",
       "      <td id=\"T_513a8_row5_col0\" class=\"data row5 col0\" >0.70</td>\n",
       "      <td id=\"T_513a8_row5_col1\" class=\"data row5 col1\" >22.13</td>\n",
       "      <td id=\"T_513a8_row5_col2\" class=\"data row5 col2\" >5354.71</td>\n",
       "    </tr>\n",
       "    <tr>\n",
       "      <th id=\"T_513a8_level0_row6\" class=\"row_heading level0 row6\" >6</th>\n",
       "      <td id=\"T_513a8_row6_col0\" class=\"data row6 col0\" >0.60</td>\n",
       "      <td id=\"T_513a8_row6_col1\" class=\"data row6 col1\" >22.11</td>\n",
       "      <td id=\"T_513a8_row6_col2\" class=\"data row6 col2\" >5350.92</td>\n",
       "    </tr>\n",
       "    <tr>\n",
       "      <th id=\"T_513a8_level0_row7\" class=\"row_heading level0 row7\" >7</th>\n",
       "      <td id=\"T_513a8_row7_col0\" class=\"data row7 col0\" >0.50</td>\n",
       "      <td id=\"T_513a8_row7_col1\" class=\"data row7 col1\" >22.10</td>\n",
       "      <td id=\"T_513a8_row7_col2\" class=\"data row7 col2\" >5348.05</td>\n",
       "    </tr>\n",
       "    <tr>\n",
       "      <th id=\"T_513a8_level0_row8\" class=\"row_heading level0 row8\" >8</th>\n",
       "      <td id=\"T_513a8_row8_col0\" class=\"data row8 col0\" >0.40</td>\n",
       "      <td id=\"T_513a8_row8_col1\" class=\"data row8 col1\" >22.09</td>\n",
       "      <td id=\"T_513a8_row8_col2\" class=\"data row8 col2\" >5345.82</td>\n",
       "    </tr>\n",
       "    <tr>\n",
       "      <th id=\"T_513a8_level0_row9\" class=\"row_heading level0 row9\" >9</th>\n",
       "      <td id=\"T_513a8_row9_col0\" class=\"data row9 col0\" >0.30</td>\n",
       "      <td id=\"T_513a8_row9_col1\" class=\"data row9 col1\" >22.08</td>\n",
       "      <td id=\"T_513a8_row9_col2\" class=\"data row9 col2\" >5344.05</td>\n",
       "    </tr>\n",
       "    <tr>\n",
       "      <th id=\"T_513a8_level0_row10\" class=\"row_heading level0 row10\" >10</th>\n",
       "      <td id=\"T_513a8_row10_col0\" class=\"data row10 col0\" >0.20</td>\n",
       "      <td id=\"T_513a8_row10_col1\" class=\"data row10 col1\" >22.08</td>\n",
       "      <td id=\"T_513a8_row10_col2\" class=\"data row10 col2\" >5342.67</td>\n",
       "    </tr>\n",
       "    <tr>\n",
       "      <th id=\"T_513a8_level0_row11\" class=\"row_heading level0 row11\" >11</th>\n",
       "      <td id=\"T_513a8_row11_col0\" class=\"data row11 col0\" >0.00</td>\n",
       "      <td id=\"T_513a8_row11_col1\" class=\"data row11 col1\" >22.07</td>\n",
       "      <td id=\"T_513a8_row11_col2\" class=\"data row11 col2\" >5340.75</td>\n",
       "    </tr>\n",
       "  </tbody>\n",
       "</table>\n"
      ],
      "text/plain": [
       "<pandas.io.formats.style.Styler at 0x290a9c14af0>"
      ]
     },
     "execution_count": 56,
     "metadata": {},
     "output_type": "execute_result"
    }
   ],
   "source": [
    "res_ldf = ldf(log_lik.astype(float), levels=2, discount_factors=[discount_factors, discount_factors], activation_functions=[\"softmax\", \"softmax\"], c=c)\n",
    "ldfs_df = pd.DataFrame([discount_factors, res_ldf[\"logscores\"][:,-242:].mean(axis=1), res_ldf[\"logscores\"][:,-242:].sum(axis=1)]).T\n",
    "ldfs_df.style.format(\"{:.2f}\")"
   ]
  },
  {
   "cell_type": "markdown",
   "id": "509c1e13-38e5-4cee-a391-5001375983f1",
   "metadata": {},
   "source": [
    "#### Calculate mean prediction for gaussian mixture and the quantiles"
   ]
  },
  {
   "cell_type": "code",
   "execution_count": 57,
   "id": "20e11eb0-7c2c-408b-9f40-50f355feacea",
   "metadata": {},
   "outputs": [],
   "source": [
    "# Return the smallest value x between lo and hi such that f(x) >= v\n",
    "def continuous_bisect_fun_left(f, v, lo, hi):\n",
    "    val_range = [lo, hi]\n",
    "    k = 0.5 * sum(val_range)\n",
    "    for i in range(32):\n",
    "        val_range[int(f(k) > v)] = k\n",
    "        next_k = 0.5 * sum(val_range)\n",
    "        if next_k == k:\n",
    "            break\n",
    "        k = next_k\n",
    "    return k\n",
    "\n",
    "def get_mixture_cdf(component_distributions, ps):\n",
    "    return lambda x: sum(component_dist.cdf(x) * p for component_dist, p in zip(component_distributions, ps))\n",
    "\n",
    "# Return the pth quantile of the mixture distribution given by the component distributions and their probabilities\n",
    "def mixture_quantile(p, component_distributions, ps):\n",
    "    mixture_cdf = get_mixture_cdf(component_distributions, ps)\n",
    "\n",
    "    # We can probably be a bit smarter about how we pick the limits\n",
    "    lo = np.min([dist.ppf(p) for dist in component_distributions])\n",
    "    hi = np.max([dist.ppf(p) for dist in component_distributions])\n",
    "\n",
    "    return continuous_bisect_fun_left(mixture_cdf, p, lo, hi)"
   ]
  },
  {
   "cell_type": "code",
   "execution_count": 58,
   "id": "27615f37-ced8-4cde-877c-51c6a19e581e",
   "metadata": {},
   "outputs": [],
   "source": [
    "weights = res_ldf[\"weights\"][3, -242:, :]"
   ]
  },
  {
   "cell_type": "code",
   "execution_count": 59,
   "id": "ad7f59e1-e81d-4e2d-ab80-f63f141c1046",
   "metadata": {},
   "outputs": [],
   "source": [
    "component_distributions = []\n",
    "for i in range(weights.shape[0]):\n",
    "    component_distributions.append([norm(loc=means[j, 120+i, -1], scale=np.sqrt(covariance[j, 120+i, -1, -1])) for j in range(weights.shape[1])])"
   ]
  },
  {
   "cell_type": "code",
   "execution_count": 60,
   "id": "3cf2d2aa-19c2-46f7-a9d3-f9b4e9d7c0c4",
   "metadata": {},
   "outputs": [],
   "source": [
    "qs = []\n",
    "for i in range(weights.shape[0]):\n",
    "    qs.append([mixture_quantile(0.05, component_distributions[i], weights[i,:]), mixture_quantile(0.95, component_distributions[i], weights[i,:])])\n",
    "qs = np.asarray(qs)"
   ]
  },
  {
   "cell_type": "code",
   "execution_count": 61,
   "id": "5027ec4b-1c4f-4c4d-ad97-3dbb15c4dd59",
   "metadata": {},
   "outputs": [],
   "source": [
    "ldf_s_s_2_pred = (means[:, -242:, -1] * weights.T).sum(axis=0)"
   ]
  },
  {
   "cell_type": "code",
   "execution_count": 63,
   "id": "53f0d0b1-df1f-4fbd-bbf4-329637608493",
   "metadata": {},
   "outputs": [
    {
     "data": {
      "image/png": "[encoded data removed]",
      "text/plain": [
       "<Figure size 864x432 with 1 Axes>"
      ]
     },
     "metadata": {
      "needs_background": "light"
     },
     "output_type": "display_data"
    }
   ],
   "source": [
    "ccy = \"GBP\"\n",
    "ccy_idx = 8\n",
    "pair = f'{ccy}/USD'\n",
    "time = y_ret[\"Unnamed: 0\"][126:]\n",
    "burnin = 127\n",
    "fig, ax = plt.subplots(figsize=(12,6))\n",
    "\n",
    "ax.plot(time, ldf_s_s_2_pred, c='navy', label=r'$LDF_{s,s}^2$ predicted return ' + f\"{pair}\")\n",
    "ax.plot(time, y_ret[\"GBP\"][126:], c='maroon', label=f'Realised return {pair}')\n",
    "ax.fill_between(time, qs[:,0], qs[:,1], \n",
    "                color='blue', alpha=0.1, label='$LDF_{s,s}^2$ 95% credible interval')\n",
    "\n",
    "ax.set_ylim(-0.15, 0.15)\n",
    "ax.set_title(f'{pair}')\n",
    "ax.legend(loc='upper right')\n",
    "ax.set_xlabel('Time')\n",
    "ax.set_ylabel(f'Monthly return {pair}')\n",
    "ax.grid(alpha=0.2, which='major', c='lightgrey')\n",
    "fig.tight_layout() \n",
    "plt.show()"
   ]
  }
 ],
 "metadata": {
  "kernelspec": {
   "display_name": "Python 3 (ipykernel)",
   "language": "python",
   "name": "python3"
  },
  "language_info": {
   "codemirror_mode": {
    "name": "ipython",
    "version": 3
   },
   "file_extension": ".py",
   "mimetype": "text/x-python",
   "name": "python",
   "nbconvert_exporter": "python",
   "pygments_lexer": "ipython3",
   "version": "3.8.5"
  }
 },
 "nbformat": 4,
 "nbformat_minor": 5
}
